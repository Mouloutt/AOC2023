{
 "cells": [
  {
   "cell_type": "markdown",
   "id": "535597fa",
   "metadata": {},
   "source": [
    "PART1"
   ]
  },
  {
   "cell_type": "code",
   "execution_count": 3,
   "id": "761c0c82",
   "metadata": {},
   "outputs": [],
   "source": [
    "def add_lines(maps):\n",
    "    \"\"\"Ajoute une ligne si il n'y pas de galaxie. Pour cela on crée une nouvelle carte\"\"\"\n",
    "    new_map=[]\n",
    "    for line in maps:\n",
    "        new_map.append(line)\n",
    "        if '#' not in line:\n",
    "            new_map.append(line)\n",
    "    return(new_map)\n",
    "\n",
    "def reverse_map(maps):\n",
    "    \"\"\"Transpose la carte Ligne->Colonne\"\"\"\n",
    "    new_map=[]\n",
    "    for j in range(len(maps[0])):\n",
    "        L=''\n",
    "        for i in range(len(maps)):\n",
    "            L+=maps[i][j]\n",
    "        new_map.append(L)\n",
    "    return(new_map)\n",
    "\n",
    "def final_map(maps):\n",
    "    \"\"\"Retourne la carte après les dillatations faites\"\"\"\n",
    "    map1=add_lines(maps)\n",
    "    map2=reverse_map(map1)\n",
    "    map3=add_lines(map2)\n",
    "    map_final=reverse_map(map3)\n",
    "    return(map_final)\n",
    "\n",
    "def get_dic_galaxy(maps):\n",
    "    \"\"\"Créer un dictionnaire contenant les galaxies numérotées et leur coordonnées\"\"\"\n",
    "    k=1\n",
    "    dic={}\n",
    "    n,m=len(maps),len(maps[0])\n",
    "    for i in range(n):\n",
    "        if '#' in maps[i]:\n",
    "            for j in range(m):\n",
    "                if maps[i][j]=='#':\n",
    "                    dic[k]=(i,j)\n",
    "                    k+=1\n",
    "    return(dic)\n",
    "    \n",
    "def get_distance_galaxy(i,j):\n",
    "    \"\"\"Calcule la distance entre la ième et la jième galaxie\"\"\"\n",
    "    global dic_galaxy\n",
    "    x,y=dic_galaxy[i]\n",
    "    x1,y1=dic_galaxy[j]\n",
    "    return(abs(x-x1)+abs(y-y1))"
   ]
  },
  {
   "cell_type": "code",
   "execution_count": 2,
   "id": "32c1b3af",
   "metadata": {},
   "outputs": [
    {
     "name": "stdout",
     "output_type": "stream",
     "text": [
      "10165598\n"
     ]
    }
   ],
   "source": [
    "\n",
    "f=open('input.txt','r')\n",
    "maps=[line.strip() for line in f.readlines()]\n",
    "\n",
    "map_final=final_map(maps)\n",
    "dic_galaxy=get_dic_galaxy(map_final)\n",
    "\n",
    "k=0\n",
    "for i in range(1,len(dic_galaxy)):\n",
    "    for j in range(i+1, len(dic_galaxy)+1):\n",
    "        k+=get_distance_galaxy(i,j)\n",
    "        \n",
    "print(k)"
   ]
  },
  {
   "cell_type": "markdown",
   "id": "1fc5130c",
   "metadata": {},
   "source": [
    "PART2"
   ]
  },
  {
   "cell_type": "code",
   "execution_count": 6,
   "id": "465a8f6c",
   "metadata": {},
   "outputs": [],
   "source": [
    "def find_empty_lines(maps):\n",
    "    \"\"\"Donne la liste des lignes vides\"\"\"\n",
    "    L=[]\n",
    "    for i in range(len(maps)):\n",
    "        if '#' not in maps[i]:\n",
    "            L.append(i)\n",
    "    return(L)\n",
    "def find_empty_col(maps):\n",
    "    \"\"\"Donne la liste des colonnes vides\"\"\"\n",
    "\n",
    "    return(find_empty_lines(reverse_map(maps)))\n",
    "\n",
    "def modified_distance(x,y,x1,y1,hole_size):\n",
    "    \"\"\"Calcule la distance entre deux points dans l'espace temps modifié\"\"\"\n",
    "    global L\n",
    "    global C\n",
    "    a,b=min(x,x1),max(x,x1)\n",
    "    c,d=min(y,y1),max(y,y1)\n",
    "    number_holes_line=sum([1 for i in range(a,b) if i in L])\n",
    "    number_holes_col=sum([1 for i in range(c,d) if i in C])\n",
    "    vertical_dist=hole_size*number_holes_line+b-a-number_holes_line\n",
    "    horizontal_dist=hole_size*number_holes_col+d-c-number_holes_col\n",
    "    return(vertical_dist+horizontal_dist)\n",
    "\n",
    "def modified_distance_galaxy(i,j):\n",
    "    \"\"\"Calcule la distance entre les galaxies dans l'espace temps modifié \"\"\"\n",
    "    global hole_size\n",
    "    global dic_galaxy2\n",
    "    x,y=dic_galaxy2[i]\n",
    "    x1,y1=dic_galaxy2[j]\n",
    "    return(modified_distance(x,y,x1,y1,hole_size))"
   ]
  },
  {
   "cell_type": "code",
   "execution_count": 9,
   "id": "a20a27da",
   "metadata": {},
   "outputs": [
    {
     "name": "stdout",
     "output_type": "stream",
     "text": [
      "678728808158\n"
     ]
    }
   ],
   "source": [
    "#Cette fois, au lieu de determiner une carte modifiée, on modifie le calcul de distance\n",
    "f=open('input.txt','r')\n",
    "maps=[line.strip() for line in f.readlines()]\n",
    "\n",
    "dic_galaxy2=get_dic_galaxy(maps)\n",
    "hole_size=1000000\n",
    "L=find_empty_lines(maps)\n",
    "C=find_empty_col(maps)\n",
    "\n",
    "k=0\n",
    "for i in range(1,len(dic_galaxy2)):\n",
    "    for j in range(i+1, len(dic_galaxy2)+1):\n",
    "        k+=modified_distance_galaxy(i,j)\n",
    "        \n",
    "print(k)"
   ]
  },
  {
   "cell_type": "code",
   "execution_count": null,
   "id": "4cf801fa",
   "metadata": {},
   "outputs": [],
   "source": []
  }
 ],
 "metadata": {
  "kernelspec": {
   "display_name": "Python 3",
   "language": "python",
   "name": "python3"
  },
  "language_info": {
   "codemirror_mode": {
    "name": "ipython",
    "version": 3
   },
   "file_extension": ".py",
   "mimetype": "text/x-python",
   "name": "python",
   "nbconvert_exporter": "python",
   "pygments_lexer": "ipython3",
   "version": "3.8.8"
  }
 },
 "nbformat": 4,
 "nbformat_minor": 5
}

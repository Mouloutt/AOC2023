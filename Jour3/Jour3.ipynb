{
 "cells": [
  {
   "cell_type": "markdown",
   "id": "0b5cc389",
   "metadata": {},
   "source": [
    "PART1"
   ]
  },
  {
   "cell_type": "code",
   "execution_count": 7,
   "id": "2dfd853a",
   "metadata": {},
   "outputs": [],
   "source": [
    "\n",
    "#Définition des fonctions\n",
    "def full_number(v,i,k):\n",
    "    \"\"\"Récupère le nombre dont un chiffre est positionné en v\n",
    "    On sait que c'est le ième chiffre d'un nombre à k chiffre\"\"\"\n",
    "    global maps\n",
    "    x,y=v\n",
    "    if i==0:\n",
    "        \n",
    "    \n",
    "        return(int(maps[x][y:y+k]))\n",
    "    elif i==1:\n",
    "        return(int(maps[x][y-1:y+k-1]))\n",
    "        \n",
    "    elif i==2:\n",
    "        return(int(maps[x][y-2:y+k-2]))\n",
    "\n",
    "def get_number_length(v):\n",
    "    \"\"\"Donne la longueur d'un nombre\"\"\"\n",
    "    x,y=v\n",
    "    global maps\n",
    "    L=maps[x][y:].split('.')\n",
    "    c=0\n",
    "    for car in L[0]:\n",
    "        if car.isdigit():\n",
    "            c+=1\n",
    "        else:\n",
    "            break\n",
    "    return(c)\n",
    "    \n",
    "def find_neighbours(v):\n",
    "    \"\"\"Détermine tous les voisins du point de coordonnées v\"\"\"\n",
    "    x,y=v\n",
    "\n",
    "    return((x,y-1),(x,y+1),(x+1,y-1),(x+1,y+1),(x-1,y+1),(x-1,y-1),(x+1,y),(x-1,y))\n",
    "    \n",
    "def find_special_car(v):\n",
    "    \"\"\"Cherche un caractère spécial aux alentours du point de coordonnées v\"\"\"\n",
    "    global maps\n",
    "    answer=False\n",
    "    for s in find_neighbours(v):\n",
    "        x,y=s\n",
    "        try:\n",
    "            if maps[x][y] not in '0123456789.':\n",
    "                answer=True\n",
    "        except:\n",
    "            pass\n",
    "    return(answer)\n",
    "        "
   ]
  },
  {
   "cell_type": "code",
   "execution_count": 8,
   "id": "f0ea2459",
   "metadata": {},
   "outputs": [
    {
     "name": "stdout",
     "output_type": "stream",
     "text": [
      "525181\n"
     ]
    }
   ],
   "source": [
    "f= open('input.txt','r')\n",
    "\n",
    "#Création de la carte sous forme de tableau 2D\n",
    "maps=[line.strip() for line in f.readlines()]\n",
    "\n",
    "\n",
    "\n",
    "\n",
    "k=0\n",
    "for line in maps:\n",
    "    i=maps.index(line)\n",
    "    iterator=iter(range(len(line)))\n",
    "    for j in iterator:\n",
    "\n",
    "        if line[j].isdigit():\n",
    "\n",
    "            l=get_number_length((i,j))\n",
    "\n",
    "            for m in range(l):\n",
    "                if find_special_car((i,j+m)):\n",
    "                    num=full_number((i,j+m),m,l)\n",
    "                    k+=num\n",
    "                    for a in range(l):\n",
    "                        try:\n",
    "                            next(iterator)\n",
    "                        \n",
    "                        except:\n",
    "                            pass\n",
    "                    break\n",
    "\n",
    "\n",
    "\n",
    "                        \n",
    "                    \n",
    "\n",
    "print(k)"
   ]
  },
  {
   "cell_type": "markdown",
   "id": "3874b52d",
   "metadata": {},
   "source": [
    "PART2"
   ]
  },
  {
   "cell_type": "code",
   "execution_count": null,
   "id": "cb294fd1",
   "metadata": {},
   "outputs": [],
   "source": []
  }
 ],
 "metadata": {
  "kernelspec": {
   "display_name": "Python 3",
   "language": "python",
   "name": "python3"
  },
  "language_info": {
   "codemirror_mode": {
    "name": "ipython",
    "version": 3
   },
   "file_extension": ".py",
   "mimetype": "text/x-python",
   "name": "python",
   "nbconvert_exporter": "python",
   "pygments_lexer": "ipython3",
   "version": "3.8.8"
  }
 },
 "nbformat": 4,
 "nbformat_minor": 5
}

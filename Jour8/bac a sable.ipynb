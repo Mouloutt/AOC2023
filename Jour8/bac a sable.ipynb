{
 "cells": [
  {
   "cell_type": "code",
   "execution_count": 55,
   "id": "8f758a9c",
   "metadata": {},
   "outputs": [
    {
     "name": "stdout",
     "output_type": "stream",
     "text": [
      "17621\n"
     ]
    }
   ],
   "source": [
    "f=open('input.txt','r')\n",
    "lines=[line.strip() for line in f.readlines()]\n",
    "direction=lines[0]\n",
    "lines=lines[2:]\n",
    "\n",
    "dic={k:v for k,v in [line.split(\"=\") for line in lines]}\n",
    "\n",
    "R=[(s[2:5],s[7:10]) for s in L]\n",
    "\n",
    "L=list(dic.values())\n",
    "n=L[0].index('(')\n",
    "m=L[0].index(')')\n",
    "K=[string.strip() for string in dic.keys()]\n",
    "\n",
    "dic_2={k:v for k,v in zip(K,R)}\n",
    "dic_dir={'L':0,'R':1}\n",
    "\n",
    "k=0\n",
    "position='AAA'\n",
    "while position!='ZZZ':\n",
    "    position=pattern(position)\n",
    "    k+=1\n",
    "    \n",
    "print(k*len(direction))\n"
   ]
  },
  {
   "cell_type": "code",
   "execution_count": 26,
   "id": "44b0d37e",
   "metadata": {},
   "outputs": [],
   "source": [
    "dic={k:v for k,v in [line.split(\"=\") for line in lines]}\n"
   ]
  },
  {
   "cell_type": "code",
   "execution_count": 28,
   "id": "f97f89a4",
   "metadata": {},
   "outputs": [],
   "source": [
    "L=list(dic.values())\n",
    "n=L[0].index('(')\n",
    "m=L[0].index(')')\n",
    "K=[string.strip() for string in dic.keys()]"
   ]
  },
  {
   "cell_type": "code",
   "execution_count": 29,
   "id": "b5253076",
   "metadata": {},
   "outputs": [],
   "source": [
    "R=[(s[2:5],s[7:10]) for s in L]\n"
   ]
  },
  {
   "cell_type": "code",
   "execution_count": 30,
   "id": "8879d7f0",
   "metadata": {},
   "outputs": [],
   "source": [
    "dic_2={k:v for k,v in zip(K,R)}"
   ]
  },
  {
   "cell_type": "code",
   "execution_count": 50,
   "id": "c0a7a211",
   "metadata": {},
   "outputs": [],
   "source": [
    "def pattern(position):\n",
    "    \n",
    "    global direction\n",
    "    global dic_2\n",
    "    global dic_dir\n",
    "    \n",
    "    for i in direction:\n",
    "        position=dic_2[position][dic_dir[i]]\n",
    "        \n",
    "    return(position)\n",
    "        "
   ]
  },
  {
   "cell_type": "code",
   "execution_count": 51,
   "id": "f8db3cd6",
   "metadata": {},
   "outputs": [
    {
     "data": {
      "text/plain": [
       "'SCV'"
      ]
     },
     "execution_count": 51,
     "metadata": {},
     "output_type": "execute_result"
    }
   ],
   "source": [
    "pattern('AAA')"
   ]
  },
  {
   "cell_type": "code",
   "execution_count": 44,
   "id": "7fdc9f39",
   "metadata": {},
   "outputs": [],
   "source": [
    "position='AAA'"
   ]
  },
  {
   "cell_type": "code",
   "execution_count": 45,
   "id": "56040e55",
   "metadata": {},
   "outputs": [
    {
     "data": {
      "text/plain": [
       "('LBH', 'SJH')"
      ]
     },
     "execution_count": 45,
     "metadata": {},
     "output_type": "execute_result"
    }
   ],
   "source": [
    "dic_2[position]"
   ]
  },
  {
   "cell_type": "code",
   "execution_count": 49,
   "id": "d3c2a3b9",
   "metadata": {},
   "outputs": [
    {
     "data": {
      "text/plain": [
       "'LBH'"
      ]
     },
     "execution_count": 49,
     "metadata": {},
     "output_type": "execute_result"
    }
   ],
   "source": [
    "dic_2[position][dic_dir['L']]"
   ]
  },
  {
   "cell_type": "code",
   "execution_count": 48,
   "id": "ddd8dfce",
   "metadata": {},
   "outputs": [
    {
     "data": {
      "text/plain": [
       "'LRRRLRRLLLRRRLRLRRLRRRLRLRRRLLLRRLRRLRRRLRRRLRLLRLRRLRRLLRRLRLRRRLRRLRRLRRLLRRRLRLRLRLRLLRRLLLRRLRLRRLRLLLLRRLRRRLRRLRRRLLRRRLRRLRRRLRLLRLRRLRRLLRRRLLLRLRRRLLLRRLLRRRLLRRLRRLRRLRLRRRLLRRRLRLLRLRRLLRLRRLRLLRLRRLRRRLLRRLLRRRLRRLRLRLRRRLRLRRRLRRRLRRLRRRLRLLRRRLLRRRR'"
      ]
     },
     "execution_count": 48,
     "metadata": {},
     "output_type": "execute_result"
    }
   ],
   "source": [
    "direction"
   ]
  },
  {
   "cell_type": "code",
   "execution_count": 89,
   "id": "843f7064",
   "metadata": {},
   "outputs": [],
   "source": [
    "initial_position=[pos for pos in dic_2.keys() if pos[2]=='A']"
   ]
  },
  {
   "cell_type": "code",
   "execution_count": 90,
   "id": "ff783738",
   "metadata": {},
   "outputs": [
    {
     "data": {
      "text/plain": [
       "['AAA', 'VLA', 'PJA', 'VSA', 'QKA', 'CPA']"
      ]
     },
     "execution_count": 90,
     "metadata": {},
     "output_type": "execute_result"
    }
   ],
   "source": [
    "initial_position"
   ]
  },
  {
   "cell_type": "code",
   "execution_count": 62,
   "id": "7d4217be",
   "metadata": {},
   "outputs": [],
   "source": [
    "final_position=[pos for pos in dic_2.keys() if pos[2]=='Z']"
   ]
  },
  {
   "cell_type": "code",
   "execution_count": 63,
   "id": "5b0f0ea1",
   "metadata": {},
   "outputs": [
    {
     "data": {
      "text/plain": [
       "['ZZZ', 'CLZ', 'GKZ', 'VCZ', 'FTZ', 'JTZ']"
      ]
     },
     "execution_count": 63,
     "metadata": {},
     "output_type": "execute_result"
    }
   ],
   "source": [
    "final_position"
   ]
  },
  {
   "cell_type": "code",
   "execution_count": 84,
   "id": "4d937e73",
   "metadata": {},
   "outputs": [],
   "source": [
    "def get_rep(position):\n",
    "    k=0\n",
    "    while position not in final_position:\n",
    "        position=pattern(position)\n",
    "        k+=1\n",
    "    return(k)\n",
    "        "
   ]
  },
  {
   "cell_type": "code",
   "execution_count": 87,
   "id": "432c58da",
   "metadata": {},
   "outputs": [
    {
     "data": {
      "text/plain": [
       "67"
      ]
     },
     "execution_count": 87,
     "metadata": {},
     "output_type": "execute_result"
    }
   ],
   "source": []
  },
  {
   "cell_type": "code",
   "execution_count": 91,
   "id": "37172b09",
   "metadata": {},
   "outputs": [
    {
     "name": "stdout",
     "output_type": "stream",
     "text": [
      "AAA\n",
      "VLA\n",
      "PJA\n",
      "VSA\n",
      "QKA\n",
      "CPA\n"
     ]
    }
   ],
   "source": [
    "L=[]\n",
    "for pos in initial_position:\n",
    "    print(pos)\n",
    "    L.append(get_rep(pos))"
   ]
  },
  {
   "cell_type": "code",
   "execution_count": 92,
   "id": "f3e85a3c",
   "metadata": {},
   "outputs": [
    {
     "data": {
      "text/plain": [
       "[67, 71, 79, 47, 73, 61]"
      ]
     },
     "execution_count": 92,
     "metadata": {},
     "output_type": "execute_result"
    }
   ],
   "source": [
    "L"
   ]
  },
  {
   "cell_type": "code",
   "execution_count": 93,
   "id": "f6e4a763",
   "metadata": {},
   "outputs": [
    {
     "name": "stdout",
     "output_type": "stream",
     "text": [
      "20685524831999\n"
     ]
    }
   ],
   "source": [
    "from math import gcd\n",
    "\n",
    "lcm = 1\n",
    "for i in L:\n",
    "    lcm = lcm*i//gcd(lcm, i)\n",
    "print(lcm*len(direction))"
   ]
  },
  {
   "cell_type": "code",
   "execution_count": null,
   "id": "54ce9ea9",
   "metadata": {},
   "outputs": [],
   "source": []
  }
 ],
 "metadata": {
  "kernelspec": {
   "display_name": "Python 3",
   "language": "python",
   "name": "python3"
  },
  "language_info": {
   "codemirror_mode": {
    "name": "ipython",
    "version": 3
   },
   "file_extension": ".py",
   "mimetype": "text/x-python",
   "name": "python",
   "nbconvert_exporter": "python",
   "pygments_lexer": "ipython3",
   "version": "3.8.8"
  }
 },
 "nbformat": 4,
 "nbformat_minor": 5
}

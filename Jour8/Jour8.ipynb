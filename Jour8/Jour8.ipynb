{
 "cells": [
  {
   "cell_type": "markdown",
   "id": "51ef9607",
   "metadata": {},
   "source": [
    "PART1"
   ]
  },
  {
   "cell_type": "code",
   "execution_count": 3,
   "id": "2629cf13",
   "metadata": {},
   "outputs": [],
   "source": [
    "def pattern(position):\n",
    "    \"\"\"Calcule la position après avoir suivi les instructions de directions une fois\"\"\"\n",
    "    \n",
    "    global direction\n",
    "    global dic_2\n",
    "    global dic_dir\n",
    "    \n",
    "    for i in direction:\n",
    "        position=dic_2[position][dic_dir[i]]\n",
    "        \n",
    "    return(position)\n",
    "        "
   ]
  },
  {
   "cell_type": "code",
   "execution_count": 9,
   "id": "84d93b5c",
   "metadata": {},
   "outputs": [
    {
     "name": "stdout",
     "output_type": "stream",
     "text": [
      "17621\n"
     ]
    }
   ],
   "source": [
    "f=open('input.txt','r')\n",
    "lines=[line.strip() for line in f.readlines()]\n",
    "direction=lines[0]\n",
    "lines=lines[2:]\n",
    "\n",
    "dic={k:v for k,v in [line.split(\"=\") for line in lines]}\n",
    "L=list(dic.values())\n",
    "R=[(s[2:5],s[7:10]) for s in L]\n",
    "\n",
    "K=[string.strip() for string in dic.keys()]\n",
    "\n",
    "dic_2={k:v for k,v in zip(K,R)}\n",
    "dic_dir={'L':0,'R':1}\n",
    "\n",
    "k=0\n",
    "position='AAA'\n",
    "while position!='ZZZ':\n",
    "    position=pattern(position)\n",
    "    k+=1\n",
    "    \n",
    "print(k*len(direction))\n",
    "\n"
   ]
  },
  {
   "cell_type": "markdown",
   "id": "3f60315d",
   "metadata": {},
   "source": [
    "PART2"
   ]
  },
  {
   "cell_type": "code",
   "execution_count": 8,
   "id": "3b8cef23",
   "metadata": {},
   "outputs": [
    {
     "name": "stdout",
     "output_type": "stream",
     "text": [
      "20685524831999\n"
     ]
    }
   ],
   "source": [
    "from math import gcd\n",
    "\n",
    "initial_position=[pos for pos in dic_2.keys() if pos[2]=='A']\n",
    "final_position=[pos for pos in dic_2.keys() if pos[2]=='Z']\n",
    "\n",
    "def get_rep(position):\n",
    "    \"Calcul le nombre de répétitions nécessaires pour arriver d'une position initiale à une position finale \"\n",
    "    k=0\n",
    "    while position not in final_position:\n",
    "        position=pattern(position)\n",
    "        k+=1\n",
    "    return(k)\n",
    "    \n",
    "#Récupération de la liste des répétitions nécessaires pour chaque position initiale    \n",
    "L=[]\n",
    "for pos in initial_position:\n",
    "\n",
    "    L.append(get_rep(pos))\n",
    "    \n",
    "\n",
    "#Calcul du ppcm de ces listes\n",
    "lcm = 1\n",
    "for i in L:\n",
    "    lcm = lcm*i//gcd(lcm, i)\n",
    "print(lcm*len(direction))"
   ]
  },
  {
   "cell_type": "code",
   "execution_count": null,
   "id": "4caa91df",
   "metadata": {},
   "outputs": [],
   "source": []
  }
 ],
 "metadata": {
  "kernelspec": {
   "display_name": "Python 3",
   "language": "python",
   "name": "python3"
  },
  "language_info": {
   "codemirror_mode": {
    "name": "ipython",
    "version": 3
   },
   "file_extension": ".py",
   "mimetype": "text/x-python",
   "name": "python",
   "nbconvert_exporter": "python",
   "pygments_lexer": "ipython3",
   "version": "3.8.8"
  }
 },
 "nbformat": 4,
 "nbformat_minor": 5
}

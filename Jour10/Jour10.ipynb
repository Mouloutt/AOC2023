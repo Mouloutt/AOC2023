{
 "cells": [
  {
   "cell_type": "markdown",
   "id": "e1dbef73",
   "metadata": {},
   "source": [
    "PART1"
   ]
  },
  {
   "cell_type": "code",
   "execution_count": 2,
   "id": "dbe0c6fd",
   "metadata": {},
   "outputs": [],
   "source": [
    "#Initialisation des ditionnaires nécessaires\n",
    "dic_pipe={'|':('N','S'),'-':('E','W'),'L':('N','E'),'J':('N','W'),'7':('S','W'),'F':('S','E'),'.':()}\n",
    "dic_dep={'N':(-1,0),'S':(1,0),'E':(0,1),'W':(0,-1)}\n",
    "dic_dir={'W':'E','E':'W','N':'S','S':'N'}\n",
    "way_list=('N','S','W','E')\n",
    "\n",
    "def find_start():\n",
    "    \"\"\"Trouve la position de départ\"\"\"\n",
    "    global maps\n",
    "    for i in range(len(maps)):\n",
    "        line=maps[i]\n",
    "        if 'S' in line:\n",
    "            return(i,line.index('S'))\n",
    "        \n",
    "\n",
    "def is_possible_way(way, pos):\n",
    "    \"\"\"Détermine s'il est possible d'aller dans la direction 'way' depuis la position où l'on est\"\"\"\n",
    "    x,y=pos\n",
    "    x_new,y_new=x+dic_dep[way][0],y+dic_dep[way][1]\n",
    "    new_sym=maps[x_new][y_new]\n",
    "    dir_from=dic_dir[way]\n",
    "    return(dir_from in dic_pipe[new_sym])\n",
    "\n",
    "def get_neighbours(pos):\n",
    "    \"\"\"Récupère les voisins et la direction associée\"\"\"\n",
    "    x,y=pos\n",
    "    return(((x+1,y),'S'),((x-1,y),'N'),((x,y+1),'E'),((x,y-1),'W'))\n",
    "\n",
    "def is_possible_way_from(way,pos):\n",
    "    \"\"\"Regarde s'il est possible d'aller vers un endroit depuis où l'on est en tenant compte de la tuile à la position d'origine\"\"\"\n",
    "    x,y=pos\n",
    "    sym=maps[x][y]\n",
    "    x_new,y_new=x+dic_dep[way][0],y+dic_dep[way][1]\n",
    "    try:\n",
    "        new_sym=maps[x_new][y_new]\n",
    "        dir_from=dic_dir[way]\n",
    "        return(dir_from in dic_pipe[new_sym] and way in dic_pipe[sym])\n",
    "    except:\n",
    "        return(False)\n",
    "    \n",
    "def possibles_ways(pos):\n",
    "    \"\"\"Cherche toutes les voies possibles depuis une position\"\"\"\n",
    "    return([way for way in way_list if is_possible_way_from(way,pos)])\n",
    "\n",
    "def find_start_ways():\n",
    "    \"\"\"Cherche le départ pour la position initiale\"\"\"\n",
    "    start=find_start()\n",
    "    return([way for way in way_list if is_possible_way(way,start)])\n",
    "\n",
    "def move(way,pos):\n",
    "    \"\"\"Effectue le mouvement depuis la position 'pos' dans la direction 'way' \"\"\"\n",
    "    x,y=pos\n",
    "    return((x+dic_dep[way][0],y+dic_dep[way][1]))\n",
    "\n",
    "\n",
    "\n",
    "\n",
    "\n"
   ]
  },
  {
   "cell_type": "code",
   "execution_count": 4,
   "id": "0f0c64fa",
   "metadata": {},
   "outputs": [
    {
     "name": "stdout",
     "output_type": "stream",
     "text": [
      "6886\n"
     ]
    }
   ],
   "source": [
    "f=open('input.txt','r')\n",
    "maps=[line.strip() for line in f.readlines()]\n",
    "\n",
    "#Très naivement on va parcourir la boucle en comptant les étapes parcourues jusqu'à revenir à l'origine, et on divise le résultat par 2\n",
    "#On aurait aussi pu faire tous les déplacements d'exploration à la fois mais c'est plus compliqué et ça marche comme ça.\n",
    "\n",
    "start=find_start()\n",
    "x,y=start\n",
    "maps[x]=maps[x].replace('S','L')\n",
    "pos=move('E',start)\n",
    "\n",
    "forbidden=dic_dir['E']\n",
    "k=1\n",
    "while pos!=start:\n",
    "    way=[ways for ways in possibles_ways(pos) if ways!=forbidden][0]\n",
    "    pos=move(way,pos)\n",
    "    forbidden=dic_dir[way]\n",
    "    k+=1\n",
    "\n",
    "print(k//2)\n",
    "    \n",
    "\n"
   ]
  },
  {
   "cell_type": "markdown",
   "id": "8e8b99c6",
   "metadata": {},
   "source": [
    "PART2"
   ]
  },
  {
   "cell_type": "code",
   "execution_count": null,
   "id": "b4d78f39",
   "metadata": {},
   "outputs": [],
   "source": []
  }
 ],
 "metadata": {
  "kernelspec": {
   "display_name": "Python 3",
   "language": "python",
   "name": "python3"
  },
  "language_info": {
   "codemirror_mode": {
    "name": "ipython",
    "version": 3
   },
   "file_extension": ".py",
   "mimetype": "text/x-python",
   "name": "python",
   "nbconvert_exporter": "python",
   "pygments_lexer": "ipython3",
   "version": "3.8.8"
  }
 },
 "nbformat": 4,
 "nbformat_minor": 5
}

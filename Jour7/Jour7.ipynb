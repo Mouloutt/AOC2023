{
 "cells": [
  {
   "cell_type": "markdown",
   "id": "942e67c8",
   "metadata": {},
   "source": [
    "Part1"
   ]
  },
  {
   "cell_type": "code",
   "execution_count": 1,
   "id": "6fc86892",
   "metadata": {},
   "outputs": [],
   "source": [
    "#Définition du dictionnaire de conversion de valeurs\n",
    "dic={v:str(v) for v in range(2,15)}\n",
    "dic[11]='J'\n",
    "dic[10]='T'\n",
    "dic[12]=\"Q\"\n",
    "dic[13]=\"K\"\n",
    "dic[14]='A'\n",
    "dic={v:k for k,v in dic.items()}\n",
    "\n",
    "\n",
    "#Fonctions utilisées\n",
    "def get_power(h):\n",
    "    '''Fonction qui donne le nombre de cartes identiques le plus \n",
    "    élévé ainsi que la valeur de la carte'''\n",
    "    max_occ=max(h,key=lambda x:h.count(x))\n",
    "    return(h.count(max_occ),max_occ)\n",
    "\n",
    "def get_rank(h):\n",
    "    \"\"\"Donne un rang à la main en fonction de sa nature:\n",
    "    5 cartes parielles= rang 7\n",
    "    carré= rang 6\n",
    "    etc...\n",
    "    \"\"\"\n",
    "    power,max_occ=get_power(h)\n",
    "    if power==1:\n",
    "        return(1)\n",
    "    elif power in [4,5]:\n",
    "        return(power+2)\n",
    "    elif power==3:\n",
    "        h2=h.replace(max_occ,'')\n",
    "        power2,max_occ2=get_power(h2)\n",
    "        if power2==2:\n",
    "            return(5)\n",
    "        else:\n",
    "            return(4)\n",
    "    elif power==2:\n",
    "        h2=h.replace(max_occ,'')\n",
    "        power2,max_occ2=get_power(h2)\n",
    "        if power2==2:\n",
    "            return(3)\n",
    "        else:\n",
    "            return(2)\n",
    "            \n",
    "def get_points(h):\n",
    "    \"\"\"Fonction qui cumule le rang et les points de chaque carte dans l'ordre. Le but\n",
    "    est de créer une relation d'ordre afin de trier les mains\"\"\"\n",
    "    return([get_rank(h)]+[dic[i] for i in h])\n",
    "\n"
   ]
  },
  {
   "cell_type": "code",
   "execution_count": 2,
   "id": "a9b85f7b",
   "metadata": {},
   "outputs": [
    {
     "name": "stdout",
     "output_type": "stream",
     "text": [
      "249204891\n"
     ]
    }
   ],
   "source": [
    "#Ouverture des données\n",
    "f=open('input.txt','r')\n",
    "lines=[line.strip() for line in f.readlines()]\n",
    "\n",
    "#Création d'un dictionnaire: main:points. On va ensuite trier les clés, puis trier les points dans ce même ordre\n",
    "dic_hands={line.split()[0]:int(line.split()[1]) for line in lines}\n",
    "\n",
    "hands=dic_hands.keys()\n",
    "points=dic_hands.values()\n",
    "\n",
    "#Triage des clés avec la la clé get_points\n",
    "hands_sorted=sorted(hands,key= lambda h: get_points(h))\n",
    "#On reconstruit le dictionnaire avec les clés triées\n",
    "dic_sorted={h:dic_hands[h] for h in hands_sorted}\n",
    "\n",
    "\n",
    "k=0\n",
    "#Maintenant on calcule les points en multipliant le rang par les points de la main.\n",
    "for i,p in enumerate (dic_sorted.values()):\n",
    "    k+=(i+1)*p\n",
    "    \n",
    "print(k)"
   ]
  },
  {
   "cell_type": "markdown",
   "id": "563fc460",
   "metadata": {},
   "source": [
    "Part2"
   ]
  },
  {
   "cell_type": "code",
   "execution_count": 8,
   "id": "9068b0a9",
   "metadata": {},
   "outputs": [],
   "source": [
    "#Définition des fonctions, on va juste prendre en compte le Valet qui devient un Joker\n",
    "\n",
    "#Nouveau dicitonnaire où la valeur 1 est attribuée au Valet\n",
    "dic_2=dic.copy()\n",
    "dic_2['J']=1\n",
    "\n",
    "def get_joker_utility(h):\n",
    "    \"\"\"Retourne la meilleure main possible en utilisant bien les jokers\"\"\"\n",
    "    if 'J' not in h:\n",
    "        return(h)\n",
    "    else:\n",
    "        power,max_occ=get_power(h)\n",
    "        if max_occ!='J':\n",
    "            h2=h.replace('J',max_occ)\n",
    "            return(h2)\n",
    "        elif h=='JJJJJ':\n",
    "            return(h)\n",
    "        else:\n",
    "            power2,max_occ2=get_power(h.replace('J',''))\n",
    "            h2=h.replace('J',max_occ2)\n",
    "            return(h2)\n",
    "    \n",
    "def get_new_points(h):\n",
    "    \"\"\"Calcule la nouvelle clé de tri à partir des jokers\"\"\"\n",
    "    h2=get_joker_utility(h)\n",
    "    return([get_rank(h2)]+[dic_2[i] for i in h])"
   ]
  },
  {
   "cell_type": "code",
   "execution_count": 9,
   "id": "90e439d6",
   "metadata": {},
   "outputs": [
    {
     "name": "stdout",
     "output_type": "stream",
     "text": [
      "249666369\n"
     ]
    }
   ],
   "source": [
    "f=open('input.txt','r')\n",
    "lines=[line.strip() for line in f.readlines()]\n",
    "\n",
    "dic_hands={line.split()[0]:int(line.split()[1]) for line in lines}\n",
    "\n",
    "hands=dic_hands.keys()\n",
    "points=dic_hands.values()\n",
    "\n",
    "hands_sorted=sorted(hands,key= lambda h: get_new_points(h))\n",
    "dic_sorted={h:dic_hands[h] for h in hands_sorted}\n",
    "\n",
    "\n",
    "    \n",
    "print(sum([(i+1)*p for i,p in enumerate (dic_sorted.values())]))"
   ]
  },
  {
   "cell_type": "code",
   "execution_count": null,
   "id": "bd914864",
   "metadata": {},
   "outputs": [],
   "source": []
  }
 ],
 "metadata": {
  "kernelspec": {
   "display_name": "Python 3",
   "language": "python",
   "name": "python3"
  },
  "language_info": {
   "codemirror_mode": {
    "name": "ipython",
    "version": 3
   },
   "file_extension": ".py",
   "mimetype": "text/x-python",
   "name": "python",
   "nbconvert_exporter": "python",
   "pygments_lexer": "ipython3",
   "version": "3.8.8"
  }
 },
 "nbformat": 4,
 "nbformat_minor": 5
}

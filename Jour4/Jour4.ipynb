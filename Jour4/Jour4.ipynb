{
 "cells": [
  {
   "cell_type": "markdown",
   "id": "3998d4ff",
   "metadata": {},
   "source": [
    "PART1"
   ]
  },
  {
   "cell_type": "code",
   "execution_count": 2,
   "id": "47e9a993",
   "metadata": {},
   "outputs": [],
   "source": [
    "#Définition des fonctions\n",
    "\n",
    "def get_id_winning_and_candidate(line):\n",
    "    \"\"\"Récupération des cartes gagnantes et candidats\"\"\"\n",
    "    game_id,game_line=line.split(':')\n",
    "    \n",
    "    winning_numbers,candidate_numbers=game_line.split('|')\n",
    "\n",
    "    \n",
    "    winning_numbers=[int(i) for i in winning_numbers.split()]\n",
    "    candidate_numbers=[int(i) for i in candidate_numbers.split()]\n",
    "    return(game_id,winning_numbers,candidate_numbers)\n",
    "    \n",
    "def scoring(line):\n",
    "    \"\"\"Décompte des cartes gagnantes\"\"\"\n",
    "    game_id,winning_numbers,candidate_numbers=get_id_winning_and_candidate(line)\n",
    "    m=0\n",
    "    for num in candidate_numbers:\n",
    "        if num in winning_numbers:\n",
    "            m+=1\n",
    "    return(m)"
   ]
  },
  {
   "cell_type": "code",
   "execution_count": 3,
   "id": "22ca01b8",
   "metadata": {},
   "outputs": [
    {
     "name": "stdout",
     "output_type": "stream",
     "text": [
      "28750\n"
     ]
    }
   ],
   "source": [
    "k=0\n",
    "f=open('input.txt','r')\n",
    "lines=f.readlines()\n",
    "lines=[line.strip() for line in lines]\n",
    "for line in lines:\n",
    "    m=scoring(line)\n",
    "    if m>0:\n",
    "        k+=2**(m-1)\n",
    "    \n",
    "print(k)"
   ]
  },
  {
   "cell_type": "markdown",
   "id": "094d01be",
   "metadata": {},
   "source": [
    "PART2"
   ]
  },
  {
   "cell_type": "code",
   "execution_count": 5,
   "id": "ad1bdc50",
   "metadata": {},
   "outputs": [
    {
     "name": "stdout",
     "output_type": "stream",
     "text": [
      "10212704\n"
     ]
    }
   ],
   "source": [
    "dic={i:1 for i in range(1,len(lines)+1)}\n",
    "\n",
    "\n",
    "k=1\n",
    "f=open('input.txt','r')\n",
    "lines=f.readlines()\n",
    "lines=[line.strip() for line in lines]\n",
    "for line in lines:\n",
    "    m=scoring(line)\n",
    "    for j in range(1,m+1):\n",
    "        try:\n",
    "            dic[k+j]+=dic[k]\n",
    "        except IndexError:\n",
    "            pass\n",
    "    k+=1\n",
    "print(sum(dic.values()))"
   ]
  },
  {
   "cell_type": "code",
   "execution_count": null,
   "id": "35113f02",
   "metadata": {},
   "outputs": [],
   "source": []
  }
 ],
 "metadata": {
  "kernelspec": {
   "display_name": "Python 3",
   "language": "python",
   "name": "python3"
  },
  "language_info": {
   "codemirror_mode": {
    "name": "ipython",
    "version": 3
   },
   "file_extension": ".py",
   "mimetype": "text/x-python",
   "name": "python",
   "nbconvert_exporter": "python",
   "pygments_lexer": "ipython3",
   "version": "3.8.8"
  }
 },
 "nbformat": 4,
 "nbformat_minor": 5
}

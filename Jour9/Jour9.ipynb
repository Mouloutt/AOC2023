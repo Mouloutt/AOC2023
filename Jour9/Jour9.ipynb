{
 "cells": [
  {
   "cell_type": "markdown",
   "id": "bf6318a1",
   "metadata": {},
   "source": [
    "PART1"
   ]
  },
  {
   "cell_type": "code",
   "execution_count": 1,
   "id": "1c8ad420",
   "metadata": {},
   "outputs": [],
   "source": [
    "def diff_seq(L):\n",
    "    \"\"\"Calcule la suite des différences entre un élément et son précédant\"\"\"\n",
    "    return([L[i+1]-L[i] for i in range(len(L)-1)])\n",
    "    \n",
    "def get_seq_list(L):\n",
    "    \"\"\"Détérmine la suite de toutes les différences\"\"\"\n",
    "    A=[L]\n",
    "    K=L\n",
    "    while not set(K).issubset(set([0])):\n",
    "        K=diff_seq(K)\n",
    "        A.append(K)\n",
    "    return(A)\n",
    "\n",
    "def find_last_elt(L):\n",
    "    \"\"\"Remonte les suites de différences en partant de la fin. On complète en ajoutant au de\"\"\"\n",
    "    A=get_seq_list(L)[::-1]\n",
    "    #print(A)\n",
    "    for i in range(1,len(A)):\n",
    "        A[i].append(A[i][-1]+A[i-1][-1])\n",
    "        #print(A[i])\n",
    "    return(A[-1][-1])"
   ]
  },
  {
   "cell_type": "code",
   "execution_count": 2,
   "id": "0200bd96",
   "metadata": {},
   "outputs": [
    {
     "name": "stdout",
     "output_type": "stream",
     "text": [
      "2005352194\n"
     ]
    }
   ],
   "source": [
    "f= open('input.txt','r')\n",
    "lines=[line.strip() for line in f.readlines()]\n",
    "lines=[[int(i) for i in line.split()] for line in lines]\n",
    "k=0\n",
    "for line in lines:\n",
    "    k+=find_last_elt(line)\n",
    "print(k)"
   ]
  },
  {
   "cell_type": "code",
   "execution_count": null,
   "id": "2f4933cc",
   "metadata": {},
   "outputs": [],
   "source": []
  }
 ],
 "metadata": {
  "kernelspec": {
   "display_name": "Python 3",
   "language": "python",
   "name": "python3"
  },
  "language_info": {
   "codemirror_mode": {
    "name": "ipython",
    "version": 3
   },
   "file_extension": ".py",
   "mimetype": "text/x-python",
   "name": "python",
   "nbconvert_exporter": "python",
   "pygments_lexer": "ipython3",
   "version": "3.8.8"
  }
 },
 "nbformat": 4,
 "nbformat_minor": 5
}

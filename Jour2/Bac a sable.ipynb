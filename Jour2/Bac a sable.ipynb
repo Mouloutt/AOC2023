{
 "cells": [
  {
   "cell_type": "code",
   "execution_count": 84,
   "id": "bd0b45ee",
   "metadata": {},
   "outputs": [
    {
     "name": "stdout",
     "output_type": "stream",
     "text": [
      "1853\n"
     ]
    }
   ],
   "source": [
    "\n",
    "with open('input.txt','r') as f:\n",
    "\n",
    "    lines=f.readlines()\n",
    "    lines=[line.strip() for line in lines]\n",
    "    print(sum([get_game_id(line) for line in lines if is_game_ok(line)]))\n"
   ]
  },
  {
   "cell_type": "code",
   "execution_count": 79,
   "id": "ac91a0a8",
   "metadata": {},
   "outputs": [],
   "source": [
    "def get_game_id(line):\n",
    "    game_number=line.split(':')[0]\n",
    "    game_id=''.join(re.findall(r'[0-9]',game_number))\n",
    "    return(int(game_id))"
   ]
  },
  {
   "cell_type": "code",
   "execution_count": 63,
   "id": "19df8253",
   "metadata": {},
   "outputs": [],
   "source": [
    "def get_color_number_list(line,color):\n",
    "    L_colors=[]\n",
    "    game=line.split(':')[1]\n",
    "    draws=game.split(';')\n",
    "    for draw in draws:\n",
    "        draw=draw.split(',')\n",
    "        #print(draw)\n",
    "        color_selection=[elt  for elt in draw if color in elt]\n",
    "        #print(color_selection)\n",
    "        if len(color_selection)>0:\n",
    "            color_number=''.join([car for car in color_selection[0] if car.isnumeric()])\n",
    "\n",
    "            L_colors.append(int(color_number))\n",
    "    return(L_colors)"
   ]
  },
  {
   "cell_type": "code",
   "execution_count": 73,
   "id": "da701550",
   "metadata": {},
   "outputs": [],
   "source": [
    "def is_ok(line,color):\n",
    "    dic_max={'green': 13, 'red':12,'blue':14}\n",
    "    L_colors=get_color_number_list(line,color)\n",
    "    if max(L_colors)>dic_max[color]:\n",
    "        return(True)\n",
    "    return(None)\n",
    "\n",
    "def is_game_ok(line):\n",
    "    dic_max={'green': 13, 'red':12,'blue':14}\n",
    "    answer=True\n",
    "    for color in dic_max:\n",
    "        if is_ok(line,color):\n",
    "            answer=False\n",
    "    return(answer)\n",
    "            "
   ]
  },
  {
   "cell_type": "code",
   "execution_count": 74,
   "id": "4b476d28",
   "metadata": {},
   "outputs": [
    {
     "data": {
      "text/plain": [
       "False"
      ]
     },
     "execution_count": 74,
     "metadata": {},
     "output_type": "execute_result"
    }
   ],
   "source": [
    "is_game_ok(lines[9])"
   ]
  },
  {
   "cell_type": "code",
   "execution_count": 65,
   "id": "c430afcf",
   "metadata": {},
   "outputs": [
    {
     "data": {
      "text/plain": [
       "{'green': 13, 'red': 12, 'blue': 14}"
      ]
     },
     "execution_count": 65,
     "metadata": {},
     "output_type": "execute_result"
    }
   ],
   "source": [
    "dic_max"
   ]
  },
  {
   "cell_type": "code",
   "execution_count": 43,
   "id": "20d06c3f",
   "metadata": {},
   "outputs": [],
   "source": [
    "c=None"
   ]
  },
  {
   "cell_type": "code",
   "execution_count": 47,
   "id": "582a55db",
   "metadata": {},
   "outputs": [],
   "source": [
    "if c:\n",
    "    L=False"
   ]
  },
  {
   "cell_type": "code",
   "execution_count": 48,
   "id": "165fe661",
   "metadata": {},
   "outputs": [
    {
     "data": {
      "text/plain": [
       "False"
      ]
     },
     "execution_count": 48,
     "metadata": {},
     "output_type": "execute_result"
    }
   ],
   "source": [
    "L"
   ]
  },
  {
   "cell_type": "code",
   "execution_count": 46,
   "id": "629acaa7",
   "metadata": {},
   "outputs": [],
   "source": [
    "c=1"
   ]
  },
  {
   "cell_type": "code",
   "execution_count": null,
   "id": "3479dd58",
   "metadata": {},
   "outputs": [],
   "source": []
  }
 ],
 "metadata": {
  "kernelspec": {
   "display_name": "Python 3",
   "language": "python",
   "name": "python3"
  },
  "language_info": {
   "codemirror_mode": {
    "name": "ipython",
    "version": 3
   },
   "file_extension": ".py",
   "mimetype": "text/x-python",
   "name": "python",
   "nbconvert_exporter": "python",
   "pygments_lexer": "ipython3",
   "version": "3.8.8"
  }
 },
 "nbformat": 4,
 "nbformat_minor": 5
}

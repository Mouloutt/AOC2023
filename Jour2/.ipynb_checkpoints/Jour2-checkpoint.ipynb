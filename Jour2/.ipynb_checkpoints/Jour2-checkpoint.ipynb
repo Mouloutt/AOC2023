{
 "cells": [
  {
   "cell_type": "markdown",
   "id": "64f7f64e",
   "metadata": {},
   "source": [
    "PART 1"
   ]
  },
  {
   "cell_type": "code",
   "execution_count": 4,
   "id": "482a19ef",
   "metadata": {},
   "outputs": [
    {
     "name": "stdout",
     "output_type": "stream",
     "text": [
      "Sum of the possible lines: 1853\n"
     ]
    }
   ],
   "source": [
    "import re\n",
    "\n",
    "def get_game_id(line):\n",
    "    game_number=line.split(':')[0]\n",
    "    game_id=''.join(re.findall(r'[0-9]',game_number))\n",
    "    return(int(game_id))\n",
    "\n",
    "def get_color_number_list(line,color):\n",
    "    L_colors=[]\n",
    "    game=line.split(':')[1]\n",
    "    draws=game.split(';')\n",
    "    for draw in draws:\n",
    "        draw=draw.split(',')\n",
    "        #print(draw)\n",
    "        color_selection=[elt  for elt in draw if color in elt]\n",
    "        #print(color_selection)\n",
    "        if len(color_selection)>0:\n",
    "            color_number=''.join([car for car in color_selection[0] if car.isnumeric()])\n",
    "\n",
    "            L_colors.append(int(color_number))\n",
    "    return(L_colors)\n",
    "\n",
    "def is_ok(line,color):\n",
    "    dic_max={'green': 13, 'red':12,'blue':14}\n",
    "    L_colors=get_color_number_list(line,color)\n",
    "    if max(L_colors)>dic_max[color]:\n",
    "        return(True)\n",
    "    return(None)\n",
    "\n",
    "def is_game_ok(line):\n",
    "    dic_max={'green': 13, 'red':12,'blue':14}\n",
    "    answer=True\n",
    "    for color in dic_max:\n",
    "        if is_ok(line,color):\n",
    "            answer=False\n",
    "    return(answer)\n",
    "\n",
    "\n",
    "#CODE\n",
    "\n",
    "\n",
    "with open('input.txt','r') as f:\n",
    "\n",
    "    lines=f.readlines()\n",
    "    lines=[line.strip() for line in lines]\n",
    "    print(\"Sum of the possible lines: {}\".format(sum([get_game_id(line) for line in lines if is_game_ok(line)])))\n",
    "\n"
   ]
  },
  {
   "cell_type": "markdown",
   "id": "61a2d3d2",
   "metadata": {},
   "source": [
    "PART2"
   ]
  },
  {
   "cell_type": "code",
   "execution_count": 18,
   "id": "623d37df",
   "metadata": {},
   "outputs": [
    {
     "name": "stdout",
     "output_type": "stream",
     "text": [
      "72706\n"
     ]
    }
   ],
   "source": [
    "from functools import reduce\n",
    "\n",
    "def max_color(line,color):\n",
    "    L_color=get_color_number_list(line,color)\n",
    "    return(max(L_color))\n",
    "  \n",
    "with open('input.txt','r') as f:\n",
    "\n",
    "    lines=f.readlines()\n",
    "    \n",
    " \n",
    "    print(sum([reduce(lambda x, y: x*y, [max_color(line,color) for color in [\"green\",'blue','red']]) for line in lines]))\n",
    "\n",
    "\n",
    "\n"
   ]
  },
  {
   "cell_type": "code",
   "execution_count": null,
   "id": "d98efd5d",
   "metadata": {},
   "outputs": [],
   "source": []
  }
 ],
 "metadata": {
  "kernelspec": {
   "display_name": "Python 3",
   "language": "python",
   "name": "python3"
  },
  "language_info": {
   "codemirror_mode": {
    "name": "ipython",
    "version": 3
   },
   "file_extension": ".py",
   "mimetype": "text/x-python",
   "name": "python",
   "nbconvert_exporter": "python",
   "pygments_lexer": "ipython3",
   "version": "3.8.8"
  }
 },
 "nbformat": 4,
 "nbformat_minor": 5
}

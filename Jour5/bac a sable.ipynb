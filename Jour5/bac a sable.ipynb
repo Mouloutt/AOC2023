{
 "cells": [
  {
   "cell_type": "code",
   "execution_count": 151,
   "id": "1c5fe278",
   "metadata": {},
   "outputs": [
    {
     "name": "stdout",
     "output_type": "stream",
     "text": [
      "261668924\n"
     ]
    }
   ],
   "source": [
    "f=open('input.txt','r')\n",
    "lines=f.readlines()\n",
    "lines=[line.strip() for line in lines]\n",
    "lines=[line for line in lines if line!='']\n",
    "\n",
    "seeds=[int(i) for i in lines[0].split(':')[1].split()]\n",
    "i=1\n",
    "while True:\n",
    "    if get_line_name(lines[i])=='humidity-to-location map':\n",
    "        L=get_list(i,len(lines))\n",
    "        seeds=[new_number(m,L) for m in seeds]\n",
    "        break\n",
    "\n",
    "\n",
    "\n",
    "    else:\n",
    "        m=get_next_line_with_name(i)\n",
    "        L=get_list(i,m)\n",
    "        seeds=[new_number(m,L) for m in seeds]\n",
    "\n",
    "        i=m\n",
    "    \n",
    "\n",
    "print(min(seeds))\n",
    "    \n",
    "    \n",
    "\n"
   ]
  },
  {
   "cell_type": "code",
   "execution_count": null,
   "id": "221b9504",
   "metadata": {},
   "outputs": [],
   "source": [
    "print(seeds)"
   ]
  },
  {
   "cell_type": "code",
   "execution_count": 42,
   "id": "47253745",
   "metadata": {},
   "outputs": [],
   "source": [
    "def get_line_name(line):\n",
    "\n",
    "    name=line.split(':')[0]\n",
    "    return(name)\n",
    "\n",
    "def get_next_line_with_name(line_number):\n",
    "    global lines\n",
    "    \n",
    "    m=line_number+1\n",
    "    while lines[m][0].isnumeric():\n",
    "        m+=1\n",
    "    return(m)\n",
    "        \n",
    "def dest_source(line):\n",
    "    txt=get_line_name(line).split()[0]\n",
    "    txt=txt.split('-')\n",
    "    destination=txt[0]\n",
    "    source=txt[2]\n",
    "    return(destination,source)\n",
    "    "
   ]
  },
  {
   "cell_type": "code",
   "execution_count": 38,
   "id": "b60d8efc",
   "metadata": {},
   "outputs": [
    {
     "data": {
      "text/plain": [
       "'seed-to-soil map'"
      ]
     },
     "execution_count": 38,
     "metadata": {},
     "output_type": "execute_result"
    }
   ],
   "source": [
    "m=get_next_line_name(1)\n",
    "get_line_name(lines[1])"
   ]
  },
  {
   "cell_type": "code",
   "execution_count": 37,
   "id": "f8522628",
   "metadata": {},
   "outputs": [
    {
     "name": "stdout",
     "output_type": "stream",
     "text": [
      "seed soil\n"
     ]
    }
   ],
   "source": [
    "destination,source=dest_source(lines[1])\n",
    "print(destination,source)"
   ]
  },
  {
   "cell_type": "code",
   "execution_count": 148,
   "id": "f0a99dc3",
   "metadata": {},
   "outputs": [],
   "source": [
    "\n",
    "def new_number(m,L):\n",
    "    for l in L:\n",
    "        dest,source,ranges=l\n",
    "        if m in range(source,source+ranges):\n",
    "            m=dest+(m-source)\n",
    "            return(m)\n",
    "    \n",
    "    return(m)\n",
    "\n",
    "def get_list(n,m):\n",
    "    L=[]\n",
    "    global lines\n",
    "    for i in range(n+1,m):\n",
    "        L.append([int(n) for n in lines[i].split()])\n",
    "    return(L)\n",
    "        \n",
    "        \n",
    "        "
   ]
  },
  {
   "cell_type": "code",
   "execution_count": 124,
   "id": "c01706c1",
   "metadata": {},
   "outputs": [],
   "source": [
    "m=new_number(51,[[52,50,48]])"
   ]
  },
  {
   "cell_type": "code",
   "execution_count": 125,
   "id": "3d115392",
   "metadata": {},
   "outputs": [
    {
     "data": {
      "text/plain": [
       "53"
      ]
     },
     "execution_count": 125,
     "metadata": {},
     "output_type": "execute_result"
    }
   ],
   "source": [
    "m"
   ]
  },
  {
   "cell_type": "code",
   "execution_count": 68,
   "id": "49262c6d",
   "metadata": {},
   "outputs": [
    {
     "data": {
      "text/plain": [
       "'humidity-to-location map'"
      ]
     },
     "execution_count": 68,
     "metadata": {},
     "output_type": "execute_result"
    }
   ],
   "source": [
    "get_line_name(lines[175])\n"
   ]
  },
  {
   "cell_type": "code",
   "execution_count": 73,
   "id": "bd55ae6a",
   "metadata": {},
   "outputs": [
    {
     "ename": "TypeError",
     "evalue": "new_number() missing 3 required keyword-only arguments: 'dest', 'source', and 'ranges'",
     "output_type": "error",
     "traceback": [
      "\u001b[0;31m---------------------------------------------------------------------------\u001b[0m",
      "\u001b[0;31mTypeError\u001b[0m                                 Traceback (most recent call last)",
      "\u001b[0;32m<ipython-input-73-e81c480d644d>\u001b[0m in \u001b[0;36m<module>\u001b[0;34m\u001b[0m\n\u001b[0;32m----> 1\u001b[0;31m \u001b[0mseeds\u001b[0m\u001b[0;34m=\u001b[0m\u001b[0mnew_number\u001b[0m\u001b[0;34m(\u001b[0m\u001b[0mseeds\u001b[0m\u001b[0;34m,\u001b[0m\u001b[0;36m50\u001b[0m\u001b[0;34m,\u001b[0m\u001b[0;36m98\u001b[0m\u001b[0;34m,\u001b[0m\u001b[0;36m2\u001b[0m\u001b[0;34m)\u001b[0m\u001b[0;34m\u001b[0m\u001b[0;34m\u001b[0m\u001b[0m\n\u001b[0m",
      "\u001b[0;31mTypeError\u001b[0m: new_number() missing 3 required keyword-only arguments: 'dest', 'source', and 'ranges'"
     ]
    }
   ],
   "source": [
    "seeds=new_number(seeds,50,98,2)"
   ]
  },
  {
   "cell_type": "code",
   "execution_count": 102,
   "id": "8c4274f1",
   "metadata": {},
   "outputs": [],
   "source": [
    "a,b,c=3364357590,3606396302,421831437"
   ]
  },
  {
   "cell_type": "code",
   "execution_count": 96,
   "id": "8fa63c92",
   "metadata": {},
   "outputs": [
    {
     "name": "stdout",
     "output_type": "stream",
     "text": [
      "[2041142901, 113138307, 302673608, 467797997, 1787644422, 208119536, 143576771, 99841043, 4088720102, 111819874, 946418697, 13450451, 3459931852, 262303791, 2913410855, 533641609, 2178733435, 26814354, 1058342395, 175406592]\n"
     ]
    }
   ],
   "source": [
    "f=open('input.txt','r')\n",
    "lines=f.readlines()\n",
    "lines=[line.strip() for line in lines]\n",
    "lines=[line for line in lines if line!='']\n",
    "\n",
    "seeds=[int(i) for i in lines[0].split(':')[1].split()]\n",
    "print(seeds)"
   ]
  },
  {
   "cell_type": "code",
   "execution_count": 98,
   "id": "7db00ad1",
   "metadata": {},
   "outputs": [],
   "source": [
    "for i in range(len(seeds)):\n",
    "    seeds[i]=new_number(seeds[i],a,b,c)"
   ]
  },
  {
   "cell_type": "code",
   "execution_count": 99,
   "id": "8f75da75",
   "metadata": {},
   "outputs": [
    {
     "data": {
      "text/plain": [
       "[3855629690,\n",
       " 113138307,\n",
       " 302673608,\n",
       " 467797997,\n",
       " 1787644422,\n",
       " 208119536,\n",
       " 143576771,\n",
       " 99841043,\n",
       " 4088720102,\n",
       " 111819874,\n",
       " 946418697,\n",
       " 13450451,\n",
       " 3459931852,\n",
       " 262303791,\n",
       " 2913410855,\n",
       " 533641609,\n",
       " 3993220224,\n",
       " 26814354,\n",
       " 1058342395,\n",
       " 175406592]"
      ]
     },
     "execution_count": 99,
     "metadata": {},
     "output_type": "execute_result"
    }
   ],
   "source": [
    "seeds"
   ]
  },
  {
   "cell_type": "code",
   "execution_count": 103,
   "id": "cac0f7dc",
   "metadata": {},
   "outputs": [
    {
     "data": {
      "text/plain": [
       "3613590978"
      ]
     },
     "execution_count": 103,
     "metadata": {},
     "output_type": "execute_result"
    }
   ],
   "source": [
    "new_number(3855629690,a,b,c)"
   ]
  },
  {
   "cell_type": "code",
   "execution_count": 91,
   "id": "e159b370",
   "metadata": {},
   "outputs": [
    {
     "data": {
      "text/plain": [
       "False"
      ]
     },
     "execution_count": 91,
     "metadata": {},
     "output_type": "execute_result"
    }
   ],
   "source": [
    "143576771 in range(b,b+c)"
   ]
  },
  {
   "cell_type": "code",
   "execution_count": 138,
   "id": "a1013dfe",
   "metadata": {},
   "outputs": [
    {
     "name": "stdout",
     "output_type": "stream",
     "text": [
      "[50, 98, 2]\n",
      "[52, 50, 48]\n",
      "1 1\n",
      "[50, 98, 2]\n",
      "[52, 50, 48]\n",
      "2 2\n",
      "[50, 98, 2]\n",
      "[52, 50, 48]\n",
      "3 3\n",
      "[50, 98, 2]\n",
      "[52, 50, 48]\n",
      "4 4\n",
      "[50, 98, 2]\n",
      "[52, 50, 48]\n",
      "5 5\n",
      "[50, 98, 2]\n",
      "[52, 50, 48]\n",
      "6 6\n",
      "[50, 98, 2]\n",
      "[52, 50, 48]\n",
      "7 7\n",
      "[50, 98, 2]\n",
      "[52, 50, 48]\n",
      "8 8\n",
      "[50, 98, 2]\n",
      "[52, 50, 48]\n",
      "9 9\n",
      "[50, 98, 2]\n",
      "[52, 50, 48]\n",
      "10 10\n",
      "[50, 98, 2]\n",
      "[52, 50, 48]\n",
      "11 11\n",
      "[50, 98, 2]\n",
      "[52, 50, 48]\n",
      "12 12\n",
      "[50, 98, 2]\n",
      "[52, 50, 48]\n",
      "13 13\n",
      "[50, 98, 2]\n",
      "[52, 50, 48]\n",
      "14 14\n",
      "[50, 98, 2]\n",
      "[52, 50, 48]\n",
      "15 15\n",
      "[50, 98, 2]\n",
      "[52, 50, 48]\n",
      "16 16\n",
      "[50, 98, 2]\n",
      "[52, 50, 48]\n",
      "17 17\n",
      "[50, 98, 2]\n",
      "[52, 50, 48]\n",
      "18 18\n",
      "[50, 98, 2]\n",
      "[52, 50, 48]\n",
      "19 19\n",
      "[50, 98, 2]\n",
      "[52, 50, 48]\n",
      "20 20\n",
      "[50, 98, 2]\n",
      "[52, 50, 48]\n",
      "21 21\n",
      "[50, 98, 2]\n",
      "[52, 50, 48]\n",
      "22 22\n",
      "[50, 98, 2]\n",
      "[52, 50, 48]\n",
      "23 23\n",
      "[50, 98, 2]\n",
      "[52, 50, 48]\n",
      "24 24\n",
      "[50, 98, 2]\n",
      "[52, 50, 48]\n",
      "25 25\n",
      "[50, 98, 2]\n",
      "[52, 50, 48]\n",
      "26 26\n",
      "[50, 98, 2]\n",
      "[52, 50, 48]\n",
      "27 27\n",
      "[50, 98, 2]\n",
      "[52, 50, 48]\n",
      "28 28\n",
      "[50, 98, 2]\n",
      "[52, 50, 48]\n",
      "29 29\n",
      "[50, 98, 2]\n",
      "[52, 50, 48]\n",
      "30 30\n",
      "[50, 98, 2]\n",
      "[52, 50, 48]\n",
      "31 31\n",
      "[50, 98, 2]\n",
      "[52, 50, 48]\n",
      "32 32\n",
      "[50, 98, 2]\n",
      "[52, 50, 48]\n",
      "33 33\n",
      "[50, 98, 2]\n",
      "[52, 50, 48]\n",
      "34 34\n",
      "[50, 98, 2]\n",
      "[52, 50, 48]\n",
      "35 35\n",
      "[50, 98, 2]\n",
      "[52, 50, 48]\n",
      "36 36\n",
      "[50, 98, 2]\n",
      "[52, 50, 48]\n",
      "37 37\n",
      "[50, 98, 2]\n",
      "[52, 50, 48]\n",
      "38 38\n",
      "[50, 98, 2]\n",
      "[52, 50, 48]\n",
      "39 39\n",
      "[50, 98, 2]\n",
      "[52, 50, 48]\n",
      "40 40\n",
      "[50, 98, 2]\n",
      "[52, 50, 48]\n",
      "41 41\n",
      "[50, 98, 2]\n",
      "[52, 50, 48]\n",
      "42 42\n",
      "[50, 98, 2]\n",
      "[52, 50, 48]\n",
      "43 43\n",
      "[50, 98, 2]\n",
      "[52, 50, 48]\n",
      "44 44\n",
      "[50, 98, 2]\n",
      "[52, 50, 48]\n",
      "45 45\n",
      "[50, 98, 2]\n",
      "[52, 50, 48]\n",
      "46 46\n",
      "[50, 98, 2]\n",
      "[52, 50, 48]\n",
      "47 47\n",
      "[50, 98, 2]\n",
      "[52, 50, 48]\n",
      "48 48\n",
      "[50, 98, 2]\n",
      "[52, 50, 48]\n",
      "49 49\n",
      "[50, 98, 2]\n",
      "[52, 50, 48]\n",
      "50 52\n",
      "[50, 98, 2]\n",
      "[52, 50, 48]\n",
      "51 53\n",
      "[50, 98, 2]\n",
      "[52, 50, 48]\n",
      "52 54\n",
      "[50, 98, 2]\n",
      "[52, 50, 48]\n",
      "53 55\n",
      "[50, 98, 2]\n",
      "[52, 50, 48]\n",
      "54 56\n",
      "[50, 98, 2]\n",
      "[52, 50, 48]\n",
      "55 57\n",
      "[50, 98, 2]\n",
      "[52, 50, 48]\n",
      "56 58\n",
      "[50, 98, 2]\n",
      "[52, 50, 48]\n",
      "57 59\n",
      "[50, 98, 2]\n",
      "[52, 50, 48]\n",
      "58 60\n",
      "[50, 98, 2]\n",
      "[52, 50, 48]\n",
      "59 61\n",
      "[50, 98, 2]\n",
      "[52, 50, 48]\n",
      "60 62\n",
      "[50, 98, 2]\n",
      "[52, 50, 48]\n",
      "61 63\n",
      "[50, 98, 2]\n",
      "[52, 50, 48]\n",
      "62 64\n",
      "[50, 98, 2]\n",
      "[52, 50, 48]\n",
      "63 65\n",
      "[50, 98, 2]\n",
      "[52, 50, 48]\n",
      "64 66\n",
      "[50, 98, 2]\n",
      "[52, 50, 48]\n",
      "65 67\n",
      "[50, 98, 2]\n",
      "[52, 50, 48]\n",
      "66 68\n",
      "[50, 98, 2]\n",
      "[52, 50, 48]\n",
      "67 69\n",
      "[50, 98, 2]\n",
      "[52, 50, 48]\n",
      "68 70\n",
      "[50, 98, 2]\n",
      "[52, 50, 48]\n",
      "69 71\n",
      "[50, 98, 2]\n",
      "[52, 50, 48]\n",
      "70 72\n",
      "[50, 98, 2]\n",
      "[52, 50, 48]\n",
      "71 73\n",
      "[50, 98, 2]\n",
      "[52, 50, 48]\n",
      "72 74\n",
      "[50, 98, 2]\n",
      "[52, 50, 48]\n",
      "73 75\n",
      "[50, 98, 2]\n",
      "[52, 50, 48]\n",
      "74 76\n",
      "[50, 98, 2]\n",
      "[52, 50, 48]\n",
      "75 77\n",
      "[50, 98, 2]\n",
      "[52, 50, 48]\n",
      "76 78\n",
      "[50, 98, 2]\n",
      "[52, 50, 48]\n",
      "77 79\n",
      "[50, 98, 2]\n",
      "[52, 50, 48]\n",
      "78 80\n",
      "[50, 98, 2]\n",
      "[52, 50, 48]\n",
      "79 81\n",
      "[50, 98, 2]\n",
      "[52, 50, 48]\n",
      "80 82\n",
      "[50, 98, 2]\n",
      "[52, 50, 48]\n",
      "81 83\n",
      "[50, 98, 2]\n",
      "[52, 50, 48]\n",
      "82 84\n",
      "[50, 98, 2]\n",
      "[52, 50, 48]\n",
      "83 85\n",
      "[50, 98, 2]\n",
      "[52, 50, 48]\n",
      "84 86\n",
      "[50, 98, 2]\n",
      "[52, 50, 48]\n",
      "85 87\n",
      "[50, 98, 2]\n",
      "[52, 50, 48]\n",
      "86 88\n",
      "[50, 98, 2]\n",
      "[52, 50, 48]\n",
      "87 89\n",
      "[50, 98, 2]\n",
      "[52, 50, 48]\n",
      "88 90\n",
      "[50, 98, 2]\n",
      "[52, 50, 48]\n",
      "89 91\n",
      "[50, 98, 2]\n",
      "[52, 50, 48]\n",
      "90 92\n",
      "[50, 98, 2]\n",
      "[52, 50, 48]\n",
      "91 93\n",
      "[50, 98, 2]\n",
      "[52, 50, 48]\n",
      "92 94\n",
      "[50, 98, 2]\n",
      "[52, 50, 48]\n",
      "93 95\n",
      "[50, 98, 2]\n",
      "[52, 50, 48]\n",
      "94 96\n",
      "[50, 98, 2]\n",
      "[52, 50, 48]\n",
      "95 97\n",
      "[50, 98, 2]\n",
      "[52, 50, 48]\n",
      "96 98\n",
      "[50, 98, 2]\n",
      "[52, 50, 48]\n",
      "97 99\n",
      "[50, 98, 2]\n",
      "98 50\n",
      "[50, 98, 2]\n",
      "99 51\n"
     ]
    }
   ],
   "source": [
    "\n",
    "for m in range(1,100):\n",
    "    k=new_number(m,[[50,98,2],[52,50,48]])\n",
    "    print(m,k)"
   ]
  },
  {
   "cell_type": "code",
   "execution_count": 131,
   "id": "6b5775b8",
   "metadata": {},
   "outputs": [],
   "source": [
    "L=[(50,98,2),(52,50,48)]"
   ]
  },
  {
   "cell_type": "code",
   "execution_count": 141,
   "id": "e66cbfb4",
   "metadata": {},
   "outputs": [],
   "source": [
    "L=get_list(1,18)"
   ]
  },
  {
   "cell_type": "code",
   "execution_count": 143,
   "id": "c4ceea0c",
   "metadata": {},
   "outputs": [
    {
     "data": {
      "text/plain": [
       "[1270068015, 1235603193, 242614277]"
      ]
     },
     "execution_count": 143,
     "metadata": {},
     "output_type": "execute_result"
    }
   ],
   "source": [
    "L[0]"
   ]
  },
  {
   "cell_type": "code",
   "execution_count": 152,
   "id": "748f5ac2",
   "metadata": {},
   "outputs": [],
   "source": [
    "def get_seeds(line):\n",
    "    L=[]\n",
    "    n=len(line)//2\n",
    "    for k in range(n):\n",
    "        l=[line[2*k]+r for r in range(line[2*k+1])]\n",
    "        L+=l\n",
    "    return(L)\n",
    "        "
   ]
  },
  {
   "cell_type": "code",
   "execution_count": 153,
   "id": "ddf55e56",
   "metadata": {},
   "outputs": [],
   "source": [
    "L=get_seeds([79,14,55,13])"
   ]
  },
  {
   "cell_type": "code",
   "execution_count": 154,
   "id": "133bb79f",
   "metadata": {},
   "outputs": [
    {
     "data": {
      "text/plain": [
       "[79,\n",
       " 80,\n",
       " 81,\n",
       " 82,\n",
       " 83,\n",
       " 84,\n",
       " 85,\n",
       " 86,\n",
       " 87,\n",
       " 88,\n",
       " 89,\n",
       " 90,\n",
       " 91,\n",
       " 92,\n",
       " 55,\n",
       " 56,\n",
       " 57,\n",
       " 58,\n",
       " 59,\n",
       " 60,\n",
       " 61,\n",
       " 62,\n",
       " 63,\n",
       " 64,\n",
       " 65,\n",
       " 66,\n",
       " 67]"
      ]
     },
     "execution_count": 154,
     "metadata": {},
     "output_type": "execute_result"
    }
   ],
   "source": [
    "L"
   ]
  },
  {
   "cell_type": "code",
   "execution_count": 156,
   "id": "17834cb1",
   "metadata": {},
   "outputs": [
    {
     "ename": "KeyboardInterrupt",
     "evalue": "",
     "output_type": "error",
     "traceback": [
      "\u001b[0;31m---------------------------------------------------------------------------\u001b[0m",
      "\u001b[0;31mKeyboardInterrupt\u001b[0m                         Traceback (most recent call last)",
      "\u001b[0;32m<ipython-input-156-6a32664ffb8f>\u001b[0m in \u001b[0;36m<module>\u001b[0;34m\u001b[0m\n\u001b[1;32m      5\u001b[0m \u001b[0;34m\u001b[0m\u001b[0m\n\u001b[1;32m      6\u001b[0m \u001b[0mline_seeds\u001b[0m\u001b[0;34m=\u001b[0m\u001b[0;34m[\u001b[0m\u001b[0mint\u001b[0m\u001b[0;34m(\u001b[0m\u001b[0mi\u001b[0m\u001b[0;34m)\u001b[0m \u001b[0;32mfor\u001b[0m \u001b[0mi\u001b[0m \u001b[0;32min\u001b[0m \u001b[0mlines\u001b[0m\u001b[0;34m[\u001b[0m\u001b[0;36m0\u001b[0m\u001b[0;34m]\u001b[0m\u001b[0;34m.\u001b[0m\u001b[0msplit\u001b[0m\u001b[0;34m(\u001b[0m\u001b[0;34m':'\u001b[0m\u001b[0;34m)\u001b[0m\u001b[0;34m[\u001b[0m\u001b[0;36m1\u001b[0m\u001b[0;34m]\u001b[0m\u001b[0;34m.\u001b[0m\u001b[0msplit\u001b[0m\u001b[0;34m(\u001b[0m\u001b[0;34m)\u001b[0m\u001b[0;34m]\u001b[0m\u001b[0;34m\u001b[0m\u001b[0;34m\u001b[0m\u001b[0m\n\u001b[0;32m----> 7\u001b[0;31m \u001b[0mseeds\u001b[0m\u001b[0;34m=\u001b[0m\u001b[0mget_seeds\u001b[0m\u001b[0;34m(\u001b[0m\u001b[0mline_seeds\u001b[0m\u001b[0;34m)\u001b[0m\u001b[0;34m\u001b[0m\u001b[0;34m\u001b[0m\u001b[0m\n\u001b[0m\u001b[1;32m      8\u001b[0m \u001b[0mprint\u001b[0m\u001b[0;34m(\u001b[0m\u001b[0mlen\u001b[0m\u001b[0;34m(\u001b[0m\u001b[0mseeds\u001b[0m\u001b[0;34m)\u001b[0m\u001b[0;34m)\u001b[0m\u001b[0;34m\u001b[0m\u001b[0;34m\u001b[0m\u001b[0m\n\u001b[1;32m      9\u001b[0m \u001b[0mi\u001b[0m\u001b[0;34m=\u001b[0m\u001b[0;36m1\u001b[0m\u001b[0;34m\u001b[0m\u001b[0;34m\u001b[0m\u001b[0m\n",
      "\u001b[0;32m<ipython-input-152-8c8a0af01990>\u001b[0m in \u001b[0;36mget_seeds\u001b[0;34m(line)\u001b[0m\n\u001b[1;32m      3\u001b[0m     \u001b[0mn\u001b[0m\u001b[0;34m=\u001b[0m\u001b[0mlen\u001b[0m\u001b[0;34m(\u001b[0m\u001b[0mline\u001b[0m\u001b[0;34m)\u001b[0m\u001b[0;34m//\u001b[0m\u001b[0;36m2\u001b[0m\u001b[0;34m\u001b[0m\u001b[0;34m\u001b[0m\u001b[0m\n\u001b[1;32m      4\u001b[0m     \u001b[0;32mfor\u001b[0m \u001b[0mk\u001b[0m \u001b[0;32min\u001b[0m \u001b[0mrange\u001b[0m\u001b[0;34m(\u001b[0m\u001b[0mn\u001b[0m\u001b[0;34m)\u001b[0m\u001b[0;34m:\u001b[0m\u001b[0;34m\u001b[0m\u001b[0;34m\u001b[0m\u001b[0m\n\u001b[0;32m----> 5\u001b[0;31m         \u001b[0ml\u001b[0m\u001b[0;34m=\u001b[0m\u001b[0;34m[\u001b[0m\u001b[0mline\u001b[0m\u001b[0;34m[\u001b[0m\u001b[0;36m2\u001b[0m\u001b[0;34m*\u001b[0m\u001b[0mk\u001b[0m\u001b[0;34m]\u001b[0m\u001b[0;34m+\u001b[0m\u001b[0mr\u001b[0m \u001b[0;32mfor\u001b[0m \u001b[0mr\u001b[0m \u001b[0;32min\u001b[0m \u001b[0mrange\u001b[0m\u001b[0;34m(\u001b[0m\u001b[0mline\u001b[0m\u001b[0;34m[\u001b[0m\u001b[0;36m2\u001b[0m\u001b[0;34m*\u001b[0m\u001b[0mk\u001b[0m\u001b[0;34m+\u001b[0m\u001b[0;36m1\u001b[0m\u001b[0;34m]\u001b[0m\u001b[0;34m)\u001b[0m\u001b[0;34m]\u001b[0m\u001b[0;34m\u001b[0m\u001b[0;34m\u001b[0m\u001b[0m\n\u001b[0m\u001b[1;32m      6\u001b[0m         \u001b[0mL\u001b[0m\u001b[0;34m+=\u001b[0m\u001b[0ml\u001b[0m\u001b[0;34m\u001b[0m\u001b[0;34m\u001b[0m\u001b[0m\n\u001b[1;32m      7\u001b[0m     \u001b[0;32mreturn\u001b[0m\u001b[0;34m(\u001b[0m\u001b[0mL\u001b[0m\u001b[0;34m)\u001b[0m\u001b[0;34m\u001b[0m\u001b[0;34m\u001b[0m\u001b[0m\n",
      "\u001b[0;32m<ipython-input-152-8c8a0af01990>\u001b[0m in \u001b[0;36m<listcomp>\u001b[0;34m(.0)\u001b[0m\n\u001b[1;32m      3\u001b[0m     \u001b[0mn\u001b[0m\u001b[0;34m=\u001b[0m\u001b[0mlen\u001b[0m\u001b[0;34m(\u001b[0m\u001b[0mline\u001b[0m\u001b[0;34m)\u001b[0m\u001b[0;34m//\u001b[0m\u001b[0;36m2\u001b[0m\u001b[0;34m\u001b[0m\u001b[0;34m\u001b[0m\u001b[0m\n\u001b[1;32m      4\u001b[0m     \u001b[0;32mfor\u001b[0m \u001b[0mk\u001b[0m \u001b[0;32min\u001b[0m \u001b[0mrange\u001b[0m\u001b[0;34m(\u001b[0m\u001b[0mn\u001b[0m\u001b[0;34m)\u001b[0m\u001b[0;34m:\u001b[0m\u001b[0;34m\u001b[0m\u001b[0;34m\u001b[0m\u001b[0m\n\u001b[0;32m----> 5\u001b[0;31m         \u001b[0ml\u001b[0m\u001b[0;34m=\u001b[0m\u001b[0;34m[\u001b[0m\u001b[0mline\u001b[0m\u001b[0;34m[\u001b[0m\u001b[0;36m2\u001b[0m\u001b[0;34m*\u001b[0m\u001b[0mk\u001b[0m\u001b[0;34m]\u001b[0m\u001b[0;34m+\u001b[0m\u001b[0mr\u001b[0m \u001b[0;32mfor\u001b[0m \u001b[0mr\u001b[0m \u001b[0;32min\u001b[0m \u001b[0mrange\u001b[0m\u001b[0;34m(\u001b[0m\u001b[0mline\u001b[0m\u001b[0;34m[\u001b[0m\u001b[0;36m2\u001b[0m\u001b[0;34m*\u001b[0m\u001b[0mk\u001b[0m\u001b[0;34m+\u001b[0m\u001b[0;36m1\u001b[0m\u001b[0;34m]\u001b[0m\u001b[0;34m)\u001b[0m\u001b[0;34m]\u001b[0m\u001b[0;34m\u001b[0m\u001b[0;34m\u001b[0m\u001b[0m\n\u001b[0m\u001b[1;32m      6\u001b[0m         \u001b[0mL\u001b[0m\u001b[0;34m+=\u001b[0m\u001b[0ml\u001b[0m\u001b[0;34m\u001b[0m\u001b[0;34m\u001b[0m\u001b[0m\n\u001b[1;32m      7\u001b[0m     \u001b[0;32mreturn\u001b[0m\u001b[0;34m(\u001b[0m\u001b[0mL\u001b[0m\u001b[0;34m)\u001b[0m\u001b[0;34m\u001b[0m\u001b[0;34m\u001b[0m\u001b[0m\n",
      "\u001b[0;31mKeyboardInterrupt\u001b[0m: "
     ]
    }
   ],
   "source": [
    "f=open('input.txt','r')\n",
    "lines=f.readlines()\n",
    "lines=[line.strip() for line in lines]\n",
    "lines=[line for line in lines if line!='']\n",
    "\n",
    "line_seeds=[int(i) for i in lines[0].split(':')[1].split()]\n",
    "seeds=get_seeds(line_seeds)\n",
    "print(len(seeds))\n",
    "i=1\n",
    "while True:\n",
    "    if get_line_name(lines[i])=='humidity-to-location map':\n",
    "        L=get_list(i,len(lines))\n",
    "        seeds=[new_number(m,L) for m in seeds]\n",
    "        break\n",
    "\n",
    "\n",
    "\n",
    "    else:\n",
    "        m=get_next_line_with_name(i)\n",
    "        L=get_list(i,m)\n",
    "        seeds=[new_number(m,L) for m in seeds]\n",
    "\n",
    "        i=m\n",
    "    \n",
    "\n",
    "print(min(seeds))\n",
    "    \n",
    "    \n",
    "\n"
   ]
  },
  {
   "cell_type": "code",
   "execution_count": 157,
   "id": "3e106a5d",
   "metadata": {},
   "outputs": [
    {
     "ename": "KeyboardInterrupt",
     "evalue": "",
     "output_type": "error",
     "traceback": [
      "\u001b[0;31m---------------------------------------------------------------------------\u001b[0m",
      "\u001b[0;31mKeyboardInterrupt\u001b[0m                         Traceback (most recent call last)",
      "\u001b[0;32m<ipython-input-157-3d9596d2cab1>\u001b[0m in \u001b[0;36m<module>\u001b[0;34m\u001b[0m\n\u001b[1;32m      5\u001b[0m \u001b[0;34m\u001b[0m\u001b[0m\n\u001b[1;32m      6\u001b[0m \u001b[0mline_seeds\u001b[0m\u001b[0;34m=\u001b[0m\u001b[0;34m[\u001b[0m\u001b[0mint\u001b[0m\u001b[0;34m(\u001b[0m\u001b[0mi\u001b[0m\u001b[0;34m)\u001b[0m \u001b[0;32mfor\u001b[0m \u001b[0mi\u001b[0m \u001b[0;32min\u001b[0m \u001b[0mlines\u001b[0m\u001b[0;34m[\u001b[0m\u001b[0;36m0\u001b[0m\u001b[0;34m]\u001b[0m\u001b[0;34m.\u001b[0m\u001b[0msplit\u001b[0m\u001b[0;34m(\u001b[0m\u001b[0;34m':'\u001b[0m\u001b[0;34m)\u001b[0m\u001b[0;34m[\u001b[0m\u001b[0;36m1\u001b[0m\u001b[0;34m]\u001b[0m\u001b[0;34m.\u001b[0m\u001b[0msplit\u001b[0m\u001b[0;34m(\u001b[0m\u001b[0;34m)\u001b[0m\u001b[0;34m]\u001b[0m\u001b[0;34m\u001b[0m\u001b[0;34m\u001b[0m\u001b[0m\n\u001b[0;32m----> 7\u001b[0;31m \u001b[0mseeds\u001b[0m\u001b[0;34m=\u001b[0m\u001b[0mget_seeds\u001b[0m\u001b[0;34m(\u001b[0m\u001b[0mline_seeds\u001b[0m\u001b[0;34m)\u001b[0m\u001b[0;34m\u001b[0m\u001b[0;34m\u001b[0m\u001b[0m\n\u001b[0m\u001b[1;32m      8\u001b[0m \u001b[0mprint\u001b[0m\u001b[0;34m(\u001b[0m\u001b[0mlen\u001b[0m\u001b[0;34m(\u001b[0m\u001b[0mseeds\u001b[0m\u001b[0;34m)\u001b[0m\u001b[0;34m)\u001b[0m\u001b[0;34m\u001b[0m\u001b[0;34m\u001b[0m\u001b[0m\n",
      "\u001b[0;32m<ipython-input-152-8c8a0af01990>\u001b[0m in \u001b[0;36mget_seeds\u001b[0;34m(line)\u001b[0m\n\u001b[1;32m      3\u001b[0m     \u001b[0mn\u001b[0m\u001b[0;34m=\u001b[0m\u001b[0mlen\u001b[0m\u001b[0;34m(\u001b[0m\u001b[0mline\u001b[0m\u001b[0;34m)\u001b[0m\u001b[0;34m//\u001b[0m\u001b[0;36m2\u001b[0m\u001b[0;34m\u001b[0m\u001b[0;34m\u001b[0m\u001b[0m\n\u001b[1;32m      4\u001b[0m     \u001b[0;32mfor\u001b[0m \u001b[0mk\u001b[0m \u001b[0;32min\u001b[0m \u001b[0mrange\u001b[0m\u001b[0;34m(\u001b[0m\u001b[0mn\u001b[0m\u001b[0;34m)\u001b[0m\u001b[0;34m:\u001b[0m\u001b[0;34m\u001b[0m\u001b[0;34m\u001b[0m\u001b[0m\n\u001b[0;32m----> 5\u001b[0;31m         \u001b[0ml\u001b[0m\u001b[0;34m=\u001b[0m\u001b[0;34m[\u001b[0m\u001b[0mline\u001b[0m\u001b[0;34m[\u001b[0m\u001b[0;36m2\u001b[0m\u001b[0;34m*\u001b[0m\u001b[0mk\u001b[0m\u001b[0;34m]\u001b[0m\u001b[0;34m+\u001b[0m\u001b[0mr\u001b[0m \u001b[0;32mfor\u001b[0m \u001b[0mr\u001b[0m \u001b[0;32min\u001b[0m \u001b[0mrange\u001b[0m\u001b[0;34m(\u001b[0m\u001b[0mline\u001b[0m\u001b[0;34m[\u001b[0m\u001b[0;36m2\u001b[0m\u001b[0;34m*\u001b[0m\u001b[0mk\u001b[0m\u001b[0;34m+\u001b[0m\u001b[0;36m1\u001b[0m\u001b[0;34m]\u001b[0m\u001b[0;34m)\u001b[0m\u001b[0;34m]\u001b[0m\u001b[0;34m\u001b[0m\u001b[0;34m\u001b[0m\u001b[0m\n\u001b[0m\u001b[1;32m      6\u001b[0m         \u001b[0mL\u001b[0m\u001b[0;34m+=\u001b[0m\u001b[0ml\u001b[0m\u001b[0;34m\u001b[0m\u001b[0;34m\u001b[0m\u001b[0m\n\u001b[1;32m      7\u001b[0m     \u001b[0;32mreturn\u001b[0m\u001b[0;34m(\u001b[0m\u001b[0mL\u001b[0m\u001b[0;34m)\u001b[0m\u001b[0;34m\u001b[0m\u001b[0;34m\u001b[0m\u001b[0m\n",
      "\u001b[0;32m<ipython-input-152-8c8a0af01990>\u001b[0m in \u001b[0;36m<listcomp>\u001b[0;34m(.0)\u001b[0m\n\u001b[1;32m      3\u001b[0m     \u001b[0mn\u001b[0m\u001b[0;34m=\u001b[0m\u001b[0mlen\u001b[0m\u001b[0;34m(\u001b[0m\u001b[0mline\u001b[0m\u001b[0;34m)\u001b[0m\u001b[0;34m//\u001b[0m\u001b[0;36m2\u001b[0m\u001b[0;34m\u001b[0m\u001b[0;34m\u001b[0m\u001b[0m\n\u001b[1;32m      4\u001b[0m     \u001b[0;32mfor\u001b[0m \u001b[0mk\u001b[0m \u001b[0;32min\u001b[0m \u001b[0mrange\u001b[0m\u001b[0;34m(\u001b[0m\u001b[0mn\u001b[0m\u001b[0;34m)\u001b[0m\u001b[0;34m:\u001b[0m\u001b[0;34m\u001b[0m\u001b[0;34m\u001b[0m\u001b[0m\n\u001b[0;32m----> 5\u001b[0;31m         \u001b[0ml\u001b[0m\u001b[0;34m=\u001b[0m\u001b[0;34m[\u001b[0m\u001b[0mline\u001b[0m\u001b[0;34m[\u001b[0m\u001b[0;36m2\u001b[0m\u001b[0;34m*\u001b[0m\u001b[0mk\u001b[0m\u001b[0;34m]\u001b[0m\u001b[0;34m+\u001b[0m\u001b[0mr\u001b[0m \u001b[0;32mfor\u001b[0m \u001b[0mr\u001b[0m \u001b[0;32min\u001b[0m \u001b[0mrange\u001b[0m\u001b[0;34m(\u001b[0m\u001b[0mline\u001b[0m\u001b[0;34m[\u001b[0m\u001b[0;36m2\u001b[0m\u001b[0;34m*\u001b[0m\u001b[0mk\u001b[0m\u001b[0;34m+\u001b[0m\u001b[0;36m1\u001b[0m\u001b[0;34m]\u001b[0m\u001b[0;34m)\u001b[0m\u001b[0;34m]\u001b[0m\u001b[0;34m\u001b[0m\u001b[0;34m\u001b[0m\u001b[0m\n\u001b[0m\u001b[1;32m      6\u001b[0m         \u001b[0mL\u001b[0m\u001b[0;34m+=\u001b[0m\u001b[0ml\u001b[0m\u001b[0;34m\u001b[0m\u001b[0;34m\u001b[0m\u001b[0m\n\u001b[1;32m      7\u001b[0m     \u001b[0;32mreturn\u001b[0m\u001b[0;34m(\u001b[0m\u001b[0mL\u001b[0m\u001b[0;34m)\u001b[0m\u001b[0;34m\u001b[0m\u001b[0;34m\u001b[0m\u001b[0m\n",
      "\u001b[0;31mKeyboardInterrupt\u001b[0m: "
     ]
    }
   ],
   "source": [
    "f=open('input.txt','r')\n",
    "lines=f.readlines()\n",
    "lines=[line.strip() for line in lines]\n",
    "lines=[line for line in lines if line!='']\n",
    "\n",
    "line_seeds=[int(i) for i in lines[0].split(':')[1].split()]\n",
    "seeds=get_seeds(line_seeds)\n",
    "print(len(seeds))"
   ]
  },
  {
   "cell_type": "code",
   "execution_count": 158,
   "id": "30bd1f41",
   "metadata": {},
   "outputs": [
    {
     "data": {
      "text/plain": [
       "False"
      ]
     },
     "execution_count": 158,
     "metadata": {},
     "output_type": "execute_result"
    }
   ],
   "source": [
    "1024203203 in range(1492874928,1873893178921)"
   ]
  },
  {
   "cell_type": "code",
   "execution_count": 159,
   "id": "7a5fa519",
   "metadata": {},
   "outputs": [],
   "source": [
    "r=range(1,10)\n",
    "\n"
   ]
  },
  {
   "cell_type": "code",
   "execution_count": 165,
   "id": "33c1bb15",
   "metadata": {},
   "outputs": [],
   "source": [
    "r=range(10,1)"
   ]
  },
  {
   "cell_type": "code",
   "execution_count": 166,
   "id": "30c1da54",
   "metadata": {},
   "outputs": [
    {
     "data": {
      "text/plain": [
       "1"
      ]
     },
     "execution_count": 166,
     "metadata": {},
     "output_type": "execute_result"
    }
   ],
   "source": [
    "r.step"
   ]
  },
  {
   "cell_type": "code",
   "execution_count": 167,
   "id": "380feaef",
   "metadata": {},
   "outputs": [],
   "source": [
    "for i in r:\n",
    "    print(i)"
   ]
  },
  {
   "cell_type": "code",
   "execution_count": 169,
   "id": "ea09f1e0",
   "metadata": {},
   "outputs": [
    {
     "name": "stdout",
     "output_type": "stream",
     "text": [
      "0\n"
     ]
    }
   ],
   "source": [
    "print(min(range(10)))"
   ]
  },
  {
   "cell_type": "code",
   "execution_count": null,
   "id": "8838cbb7",
   "metadata": {},
   "outputs": [],
   "source": [
    "print(min(range(10100001001101010)))"
   ]
  },
  {
   "cell_type": "code",
   "execution_count": null,
   "id": "9187fb32",
   "metadata": {},
   "outputs": [],
   "source": []
  }
 ],
 "metadata": {
  "kernelspec": {
   "display_name": "Python 3",
   "language": "python",
   "name": "python3"
  },
  "language_info": {
   "codemirror_mode": {
    "name": "ipython",
    "version": 3
   },
   "file_extension": ".py",
   "mimetype": "text/x-python",
   "name": "python",
   "nbconvert_exporter": "python",
   "pygments_lexer": "ipython3",
   "version": "3.8.8"
  }
 },
 "nbformat": 4,
 "nbformat_minor": 5
}

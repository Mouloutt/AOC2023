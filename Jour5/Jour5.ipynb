{
 "cells": [
  {
   "cell_type": "markdown",
   "id": "1a313366",
   "metadata": {},
   "source": [
    "PART1"
   ]
  },
  {
   "cell_type": "code",
   "execution_count": 3,
   "id": "b31a6638",
   "metadata": {},
   "outputs": [],
   "source": [
    "#Definition des fonctions\n",
    "\n",
    "def get_line_name(line):\n",
    "    \"\"\"Récupération du nom de la ligne lorsque celle-ci contient des caractères\"\"\"\n",
    "\n",
    "    name=line.split(':')[0]\n",
    "    return(name)\n",
    "\n",
    "def get_next_line_with_name(line_number):\n",
    "    \"\"\"Récupération de l'indice de la prochaine ligne avec des caractères. \n",
    "    Elle annonce la fin d'une série de transformations\"\"\"\n",
    "    global lines\n",
    "    \n",
    "    m=line_number+1\n",
    "    while lines[m][0].isnumeric():\n",
    "        m+=1\n",
    "    return(m)\n",
    "\n",
    "\n",
    "def new_number(m,L):\n",
    "    \"\"\"Assignation du nouveau nombre après lecture d'une transformation\"\"\"\n",
    "    for l in L:\n",
    "        dest,source,ranges=l\n",
    "        if m in range(source,source+ranges):\n",
    "            m=dest+(m-source)\n",
    "            return(m)\n",
    "    \n",
    "    return(m)\n",
    "\n",
    "def get_list(n,m):\n",
    "    \"\"\"Récupère toutes les transformations entre la ligne n et la ligne m\"\"\"\n",
    "    L=[]\n",
    "    global lines\n",
    "    for i in range(n+1,m):\n",
    "        L.append([int(n) for n in lines[i].split()])\n",
    "    return(L)\n",
    "        \n",
    "        \n",
    "        \n",
    "    "
   ]
  },
  {
   "cell_type": "code",
   "execution_count": 4,
   "id": "36ec66e7",
   "metadata": {},
   "outputs": [
    {
     "name": "stdout",
     "output_type": "stream",
     "text": [
      "261668924\n"
     ]
    }
   ],
   "source": [
    "f=open('input.txt','r')\n",
    "lines=f.readlines()\n",
    "lines=[line.strip() for line in lines]\n",
    "lines=[line for line in lines if line!='']\n",
    "\n",
    "seeds=[int(i) for i in lines[0].split(':')[1].split()]\n",
    "i=1\n",
    "while True:\n",
    "    if get_line_name(lines[i])=='humidity-to-location map':\n",
    "        L=get_list(i,len(lines))\n",
    "        seeds=[new_number(m,L) for m in seeds]\n",
    "        break\n",
    "\n",
    "\n",
    "\n",
    "    else:\n",
    "        m=get_next_line_with_name(i)\n",
    "        L=get_list(i,m)\n",
    "        seeds=[new_number(m,L) for m in seeds]\n",
    "\n",
    "        i=m\n",
    "    \n",
    "\n",
    "print(min(seeds))\n",
    "    \n",
    "    \n",
    "\n"
   ]
  },
  {
   "cell_type": "markdown",
   "id": "7fca387c",
   "metadata": {},
   "source": [
    "PART2"
   ]
  },
  {
   "cell_type": "code",
   "execution_count": null,
   "id": "a62760ce",
   "metadata": {},
   "outputs": [],
   "source": []
  }
 ],
 "metadata": {
  "kernelspec": {
   "display_name": "Python 3",
   "language": "python",
   "name": "python3"
  },
  "language_info": {
   "codemirror_mode": {
    "name": "ipython",
    "version": 3
   },
   "file_extension": ".py",
   "mimetype": "text/x-python",
   "name": "python",
   "nbconvert_exporter": "python",
   "pygments_lexer": "ipython3",
   "version": "3.8.8"
  }
 },
 "nbformat": 4,
 "nbformat_minor": 5
}

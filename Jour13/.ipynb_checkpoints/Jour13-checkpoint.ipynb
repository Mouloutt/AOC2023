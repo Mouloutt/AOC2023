{
 "cells": [
  {
   "cell_type": "markdown",
   "id": "8bb2f507",
   "metadata": {},
   "source": [
    "PART1"
   ]
  },
  {
   "cell_type": "code",
   "execution_count": 2,
   "id": "7a344356",
   "metadata": {},
   "outputs": [],
   "source": [
    "def transpose(bloc):\n",
    "    \"\"\"Transpose la carte ligne->colonne\"\"\"\n",
    "    \n",
    "    new_bloc=[]\n",
    "    for j in range(len(bloc[0])):\n",
    "        L=''\n",
    "        for i in range(len(bloc)):\n",
    "            L+=bloc[i][j]\n",
    "        new_bloc.append(L)\n",
    "    return(new_bloc)\n",
    "\n",
    "def is_reflection(i,bloc):\n",
    "    \"\"\"Regarde si il y'ya bien un mirroir après la ligne i\"\"\"\n",
    "    answer=True\n",
    "    r=0\n",
    "    while r<=min(i,len(bloc)-i-2):\n",
    "        if bloc[i-r]!=bloc[i+r+1]:\n",
    "            answer=False\n",
    "            break\n",
    "        r+=1\n",
    "    if r==min(i,len(bloc)-i-2):\n",
    "        answer=False\n",
    "    return(answer)\n",
    "\n",
    "def where_reflection(bloc):\n",
    "    \"\"\"Cherche la reflection dans un bloc en regardant chaque ligne\"\"\"\n",
    "    for i in range(len(bloc)-1):\n",
    "        if is_reflection(i,bloc):\n",
    "            return(i+1)\n",
    "        "
   ]
  },
  {
   "cell_type": "code",
   "execution_count": 3,
   "id": "f1350f77",
   "metadata": {},
   "outputs": [
    {
     "name": "stdout",
     "output_type": "stream",
     "text": [
      "33122\n"
     ]
    }
   ],
   "source": [
    "f=open('input.txt','r')\n",
    "lines=f.read().split('\\n\\n')\n",
    "blocs=[line.splitlines() for line in lines]\n",
    "\n",
    "number_col=0\n",
    "number_row=0\n",
    "for bloc in blocs:\n",
    "    if where_reflection(bloc):\n",
    "        #Regarde si il y'a un reflection en ligne\n",
    "        number_row+=where_reflection(bloc)\n",
    "    elif where_reflection(transpose(bloc)):\n",
    "        #sinon on regarde s'il y'a une reflexion en colonnes\n",
    "        \n",
    "        number_col+=where_reflection(transpose(bloc))\n",
    "        \n",
    "print(100*number_row+number_col)"
   ]
  },
  {
   "cell_type": "markdown",
   "id": "12435101",
   "metadata": {},
   "source": [
    "PART2"
   ]
  },
  {
   "cell_type": "code",
   "execution_count": 5,
   "id": "f84773e4",
   "metadata": {},
   "outputs": [],
   "source": [
    "def count_diff(s1,s2):\n",
    "    \"\"\"Regarde le nombre de différences entre deux strings de même taille et liste les index\"\"\"\n",
    "    L=[]\n",
    "    for i,s in enumerate(s1):\n",
    "        if s!=s2[i]:\n",
    "            L.append(i)\n",
    "    return(L)\n",
    "        \n",
    "\n",
    "\n",
    "def is_one_dif(bloc,i):\n",
    "    \"\"\"Regarde s'il n'y'a qu'une seule différence de caractères dans le mirroir après i\"\"\"\n",
    "    L=[]\n",
    "\n",
    "    r=0\n",
    "    while r<=min(i,len(bloc)-i-2):\n",
    "        if len(count_diff(bloc[i-r],bloc[i+r+1]))>0:\n",
    "            L.append(count_diff(bloc[i-r],bloc[i+r+1]))\n",
    "        r+=1\n",
    "    if len(L)==1:\n",
    "        if len(L[0])==1:\n",
    "            return(True)\n",
    "            \n",
    "\n",
    "def get_one_diff(bloc):\n",
    "    \"\"\"Compte le score\"\"\"\n",
    "    for i in range(len(bloc)-1):\n",
    "        if is_one_dif(bloc,i):\n",
    "            return(i+1)"
   ]
  },
  {
   "cell_type": "code",
   "execution_count": 6,
   "id": "6b903073",
   "metadata": {},
   "outputs": [
    {
     "name": "stdout",
     "output_type": "stream",
     "text": [
      "32312\n"
     ]
    }
   ],
   "source": [
    "k=0\n",
    "for bloc in blocs:\n",
    "    if get_one_diff(bloc):\n",
    "        k+=100*get_one_diff(bloc)\n",
    "    elif get_one_diff(transpose(bloc)):\n",
    "        k+=get_one_diff(transpose(bloc))\n",
    "    \n",
    "    \n",
    "print(k)"
   ]
  },
  {
   "cell_type": "code",
   "execution_count": null,
   "id": "4d1c11d1",
   "metadata": {},
   "outputs": [],
   "source": []
  }
 ],
 "metadata": {
  "kernelspec": {
   "display_name": "Python 3",
   "language": "python",
   "name": "python3"
  },
  "language_info": {
   "codemirror_mode": {
    "name": "ipython",
    "version": 3
   },
   "file_extension": ".py",
   "mimetype": "text/x-python",
   "name": "python",
   "nbconvert_exporter": "python",
   "pygments_lexer": "ipython3",
   "version": "3.8.8"
  }
 },
 "nbformat": 4,
 "nbformat_minor": 5
}

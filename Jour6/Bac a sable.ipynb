{
 "cells": [
  {
   "cell_type": "code",
   "execution_count": 37,
   "id": "37f409ca",
   "metadata": {},
   "outputs": [
    {
     "name": "stdout",
     "output_type": "stream",
     "text": [
      "800280\n"
     ]
    }
   ],
   "source": [
    "from functools import reduce\n",
    "f=open('input.txt','r')\n",
    "\n",
    "lines=[line.strip() for line in f.readlines()]\n",
    "time=lines[0].split(':')[1].strip()\n",
    "time=[int(i) for i in time.split()]\n",
    "distance=lines[1].split(':')[1].strip()\n",
    "distance=[int(i) for i in distance.split()]\n",
    "L=[get_possible_ways(time[i],distance[i]) for i in range(len(distance))]\n",
    "\n",
    "print(reduce(lambda x,y: x*y,L))"
   ]
  },
  {
   "cell_type": "code",
   "execution_count": 15,
   "id": "9a3bfccc",
   "metadata": {},
   "outputs": [
    {
     "data": {
      "text/plain": [
       "[239, 1142, 1295, 1253]"
      ]
     },
     "execution_count": 15,
     "metadata": {},
     "output_type": "execute_result"
    }
   ],
   "source": [
    "time\n"
   ]
  },
  {
   "cell_type": "code",
   "execution_count": 16,
   "id": "ba6a5d88",
   "metadata": {},
   "outputs": [
    {
     "data": {
      "text/plain": [
       "[239, 1142, 1295, 1253]"
      ]
     },
     "execution_count": 16,
     "metadata": {},
     "output_type": "execute_result"
    }
   ],
   "source": [
    "distance"
   ]
  },
  {
   "cell_type": "code",
   "execution_count": 17,
   "id": "a62ea3ea",
   "metadata": {},
   "outputs": [],
   "source": [
    "def get_distance(time,time_hold):\n",
    "    return(time_hold*(time-time_hold))"
   ]
  },
  {
   "cell_type": "code",
   "execution_count": 18,
   "id": "0329df7a",
   "metadata": {},
   "outputs": [],
   "source": [
    "d=get_distance(7,3)"
   ]
  },
  {
   "cell_type": "code",
   "execution_count": 29,
   "id": "e018cfb2",
   "metadata": {},
   "outputs": [
    {
     "name": "stdout",
     "output_type": "stream",
     "text": [
      "0\n",
      "6\n",
      "10\n",
      "12\n",
      "12\n",
      "10\n",
      "6\n",
      "0\n"
     ]
    }
   ],
   "source": [
    "for t in range(8):\n",
    "    print(get_distance(7,t))"
   ]
  },
  {
   "cell_type": "code",
   "execution_count": 34,
   "id": "bbef757f",
   "metadata": {},
   "outputs": [],
   "source": [
    "def is_record_beaten(time,time_hold,distance):\n",
    "    return(get_distance(time,time_hold)>distance)\n",
    "\n",
    "def get_possible_ways(time,distance):\n",
    "    i=0\n",
    "    while not is_record_beaten(time,i,distance):\n",
    "        i+=1\n",
    "    return(time+1-2*(i))"
   ]
  },
  {
   "cell_type": "code",
   "execution_count": 36,
   "id": "869f91bb",
   "metadata": {},
   "outputs": [
    {
     "data": {
      "text/plain": [
       "8"
      ]
     },
     "execution_count": 36,
     "metadata": {},
     "output_type": "execute_result"
    }
   ],
   "source": [
    "get_possible_ways(15,40)"
   ]
  },
  {
   "cell_type": "code",
   "execution_count": 47,
   "id": "224c72a3",
   "metadata": {},
   "outputs": [
    {
     "name": "stdout",
     "output_type": "stream",
     "text": [
      "45128024\n"
     ]
    }
   ],
   "source": [
    "from functools import reduce\n",
    "f=open('input.txt','r')\n",
    "\n",
    "lines=[line.strip() for line in f.readlines()]\n",
    "time=lines[0].split(':')[1].strip()\n",
    "time=int(''.join([c for c in time if c.isnumeric()]))\n",
    "distance=lines[1].split(':')[1].strip()\n",
    "distance=int(''.join([c for c in distance if c.isnumeric()]))\n",
    "\n",
    "print(get_possible_ways(time,distance))"
   ]
  },
  {
   "cell_type": "code",
   "execution_count": 45,
   "id": "e5f01578",
   "metadata": {},
   "outputs": [
    {
     "data": {
      "text/plain": [
       "239114212951253"
      ]
     },
     "execution_count": 45,
     "metadata": {},
     "output_type": "execute_result"
    }
   ],
   "source": [
    "distance"
   ]
  },
  {
   "cell_type": "code",
   "execution_count": 41,
   "id": "e24e712e",
   "metadata": {},
   "outputs": [],
   "source": [
    "time=int(''.join([c for c in time if c.isnumeric()]))"
   ]
  },
  {
   "cell_type": "code",
   "execution_count": 42,
   "id": "e3884740",
   "metadata": {},
   "outputs": [
    {
     "data": {
      "text/plain": [
       "54708275"
      ]
     },
     "execution_count": 42,
     "metadata": {},
     "output_type": "execute_result"
    }
   ],
   "source": [
    "time"
   ]
  },
  {
   "cell_type": "code",
   "execution_count": null,
   "id": "1dea53a6",
   "metadata": {},
   "outputs": [],
   "source": []
  }
 ],
 "metadata": {
  "kernelspec": {
   "display_name": "Python 3",
   "language": "python",
   "name": "python3"
  },
  "language_info": {
   "codemirror_mode": {
    "name": "ipython",
    "version": 3
   },
   "file_extension": ".py",
   "mimetype": "text/x-python",
   "name": "python",
   "nbconvert_exporter": "python",
   "pygments_lexer": "ipython3",
   "version": "3.8.8"
  }
 },
 "nbformat": 4,
 "nbformat_minor": 5
}

{
 "cells": [
  {
   "cell_type": "markdown",
   "id": "0c776c97",
   "metadata": {},
   "source": [
    "PART1"
   ]
  },
  {
   "cell_type": "code",
   "execution_count": 1,
   "id": "16730f00",
   "metadata": {},
   "outputs": [],
   "source": [
    "#Définition des fonctions\n",
    "\n",
    "def get_distance(time,time_hold):\n",
    "    \"\"\"Récupère la distance parcourue en fonction du temps imparti et du temps d'accélération\"\"\"\n",
    "    return(time_hold*(time-time_hold))\n",
    "\n",
    "def is_record_beaten(time,time_hold,distance):\n",
    "    \"\"\"Regarde si la distance parcourue est supérieure à la distance record\"\"\"\n",
    "    return(get_distance(time,time_hold)>distance)\n",
    "\n",
    "def get_possible_ways(time,distance):\n",
    "    \"\"\"Calcule le nombre de façons de battre le record\"\"\"\n",
    "    i=0\n",
    "    while not is_record_beaten(time,i,distance):\n",
    "        i+=1\n",
    "    return(time+1-2*(i))"
   ]
  },
  {
   "cell_type": "code",
   "execution_count": 2,
   "id": "4ce260dd",
   "metadata": {},
   "outputs": [
    {
     "name": "stdout",
     "output_type": "stream",
     "text": [
      "800280\n"
     ]
    }
   ],
   "source": [
    "from functools import reduce\n",
    "f=open('input.txt','r')\n",
    "\n",
    "lines=[line.strip() for line in f.readlines()]\n",
    "time=lines[0].split(':')[1].strip()\n",
    "time=[int(i) for i in time.split()]\n",
    "distance=lines[1].split(':')[1].strip()\n",
    "distance=[int(i) for i in distance.split()]\n",
    "L=[get_possible_ways(time[i],distance[i]) for i in range(len(distance))]\n",
    "\n",
    "print(reduce(lambda x,y: x*y,L))"
   ]
  },
  {
   "cell_type": "markdown",
   "id": "4143dca7",
   "metadata": {},
   "source": [
    "PART2"
   ]
  },
  {
   "cell_type": "code",
   "execution_count": 3,
   "id": "24b01501",
   "metadata": {},
   "outputs": [
    {
     "name": "stdout",
     "output_type": "stream",
     "text": [
      "45128024\n"
     ]
    }
   ],
   "source": [
    "from functools import reduce\n",
    "f=open('input.txt','r')\n",
    "\n",
    "lines=[line.strip() for line in f.readlines()]\n",
    "time=lines[0].split(':')[1].strip()\n",
    "time=int(''.join([c for c in time if c.isnumeric()]))\n",
    "distance=lines[1].split(':')[1].strip()\n",
    "distance=int(''.join([c for c in distance if c.isnumeric()]))\n",
    "\n",
    "print(get_possible_ways(time,distance))"
   ]
  },
  {
   "cell_type": "code",
   "execution_count": null,
   "id": "0a864a52",
   "metadata": {},
   "outputs": [],
   "source": []
  }
 ],
 "metadata": {
  "kernelspec": {
   "display_name": "Python 3",
   "language": "python",
   "name": "python3"
  },
  "language_info": {
   "codemirror_mode": {
    "name": "ipython",
    "version": 3
   },
   "file_extension": ".py",
   "mimetype": "text/x-python",
   "name": "python",
   "nbconvert_exporter": "python",
   "pygments_lexer": "ipython3",
   "version": "3.8.8"
  }
 },
 "nbformat": 4,
 "nbformat_minor": 5
}

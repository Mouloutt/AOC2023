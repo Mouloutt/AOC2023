{
 "cells": [
  {
   "cell_type": "markdown",
   "id": "a9566176",
   "metadata": {},
   "source": [
    "PART1"
   ]
  },
  {
   "cell_type": "code",
   "execution_count": 3,
   "id": "7a285d40",
   "metadata": {},
   "outputs": [],
   "source": [
    "def transpose(bloc):\n",
    "    \"\"\"Transpose le bloc\"\"\"\n",
    "    new_bloc=[]\n",
    "    for j in range(len(bloc[0])):\n",
    "        L=''\n",
    "        for i in range(len(bloc)):\n",
    "            L+=bloc[i][j]\n",
    "        new_bloc.append(L)\n",
    "    return(new_bloc)\n",
    "\n",
    "def car_pose(line,car):\n",
    "    \"\"\"établit la liste des index où l'on trouve car dans line\"\"\"\n",
    "    L=[]\n",
    "    for i,c in enumerate(line):\n",
    "        if c==car:\n",
    "            L.append(i)\n",
    "    return(L)\n",
    "\n",
    "def count_number(L,i,j):\n",
    "    \"\"\"Compte le nombre de caractères entre les index i et j\"\"\"\n",
    "    a=[k for k in L if k>=i and k<=j]\n",
    "\n",
    "    return(len(a))\n",
    "    \n",
    "def count_points(line):\n",
    "    \"\"\"Compte les points marqués pour chaque ligne\"\"\"\n",
    "    N=len(line)\n",
    "    k=0\n",
    "    global L_sharp\n",
    "    global L_rock\n",
    "    if 0 not in L_sharp:\n",
    "        m=count_number(L_rock,0,L_sharp[0])\n",
    "        k+=int((N+(N-m+1))*m/2)\n",
    "    for i in range(len(L_sharp)-1):\n",
    "        a=L_sharp[i]\n",
    "        b=L_sharp[i+1]\n",
    "        m=count_number(L_rock,a,b)\n",
    "        k+=int((N-(a+1)+N-(a+m))*m/2)\n",
    "    a=L_sharp[-1]\n",
    "    m=count_number(L_rock,a,N)\n",
    "    k+=int((N-(a+1)+N-(a+m))*m/2)\n",
    "    \n",
    "    return(k)\n",
    "            \n",
    "        "
   ]
  },
  {
   "cell_type": "code",
   "execution_count": 4,
   "id": "4ea8664f",
   "metadata": {},
   "outputs": [
    {
     "name": "stdout",
     "output_type": "stream",
     "text": [
      "105982\n"
     ]
    }
   ],
   "source": [
    "f=open('input.txt','r')\n",
    "lines=f.read().splitlines()\n",
    "\n",
    "k=0\n",
    "bloc=transpose(lines)\n",
    "for line in bloc:\n",
    "    L_sharp=car_pose(line,'#')\n",
    "    L_rock=car_pose(line,'O')\n",
    "    k+=count_points(line)\n",
    "print(k)\n",
    "    \n",
    "    "
   ]
  },
  {
   "cell_type": "code",
   "execution_count": null,
   "id": "9b569c16",
   "metadata": {},
   "outputs": [],
   "source": []
  }
 ],
 "metadata": {
  "kernelspec": {
   "display_name": "Python 3",
   "language": "python",
   "name": "python3"
  },
  "language_info": {
   "codemirror_mode": {
    "name": "ipython",
    "version": 3
   },
   "file_extension": ".py",
   "mimetype": "text/x-python",
   "name": "python",
   "nbconvert_exporter": "python",
   "pygments_lexer": "ipython3",
   "version": "3.8.8"
  }
 },
 "nbformat": 4,
 "nbformat_minor": 5
}

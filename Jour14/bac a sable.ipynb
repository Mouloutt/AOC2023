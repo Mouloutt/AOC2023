{
 "cells": [
  {
   "cell_type": "code",
   "execution_count": 2,
   "id": "8ccfde8a",
   "metadata": {},
   "outputs": [],
   "source": [
    "f=open('input.txt','r')\n",
    "lines=f.read().splitlines()"
   ]
  },
  {
   "cell_type": "code",
   "execution_count": 96,
   "id": "b0ad7dd3",
   "metadata": {},
   "outputs": [],
   "source": [
    "def transpose(bloc):\n",
    "    \n",
    "    new_bloc=[]\n",
    "    for j in range(len(bloc[0])):\n",
    "        L=''\n",
    "        for i in range(len(bloc)):\n",
    "            L+=bloc[i][j]\n",
    "        new_bloc.append(L)\n",
    "    return(new_bloc)\n",
    "\n",
    "def car_pose(line,car):\n",
    "    L=[]\n",
    "    for i,c in enumerate(line):\n",
    "        if c==car:\n",
    "            L.append(i)\n",
    "    return(L)\n",
    "\n",
    "def count_number(L,i,j):\n",
    "    a=[k for k in L if k>=i and k<=j]\n",
    "\n",
    "    return(len(a))\n",
    "    \n",
    "def count_points(line):\n",
    "    N=len(line)\n",
    "    k=0\n",
    "    global L_sharp\n",
    "    global L_rock\n",
    "    if 0 not in L_sharp:\n",
    "        m=count_number(L_rock,0,L_sharp[0])\n",
    "        k+=int((N+(N-m+1))*m/2)\n",
    "    for i in range(len(L_sharp)-1):\n",
    "        a=L_sharp[i]\n",
    "        b=L_sharp[i+1]\n",
    "        m=count_number(L_rock,a,b)\n",
    "        k+=int((N-(a+1)+N-(a+m))*m/2)\n",
    "    a=L_sharp[-1]\n",
    "    m=count_number(L_rock,a,N)\n",
    "    k+=int((N-(a+1)+N-(a+m))*m/2)\n",
    "    \n",
    "    return(k)\n",
    "            \n",
    "        "
   ]
  },
  {
   "cell_type": "code",
   "execution_count": 5,
   "id": "d2ac42ee",
   "metadata": {},
   "outputs": [],
   "source": [
    "bloc=transpose(lines)"
   ]
  },
  {
   "cell_type": "code",
   "execution_count": 97,
   "id": "cb427586",
   "metadata": {},
   "outputs": [
    {
     "name": "stdout",
     "output_type": "stream",
     "text": [
      "105982\n"
     ]
    }
   ],
   "source": [
    "k=0\n",
    "for line in bloc:\n",
    "    L_sharp=car_pose(line,'#')\n",
    "    L_rock=car_pose(line,'O')\n",
    "    k+=count_points(line)\n",
    "print(k)\n",
    "    \n",
    "    "
   ]
  },
  {
   "cell_type": "code",
   "execution_count": 86,
   "id": "fbf40963",
   "metadata": {},
   "outputs": [
    {
     "data": {
      "text/plain": [
       "796"
      ]
     },
     "execution_count": 86,
     "metadata": {},
     "output_type": "execute_result"
    }
   ],
   "source": [
    "line=bloc[0]\n",
    "L_sharp=car_pose(line,'#')\n",
    "L_rock=car_pose(line,'O')\n",
    "\n",
    "count_points(line)"
   ]
  },
  {
   "cell_type": "code",
   "execution_count": 90,
   "id": "510c8b65",
   "metadata": {},
   "outputs": [
    {
     "data": {
      "text/plain": [
       "1"
      ]
     },
     "execution_count": 90,
     "metadata": {},
     "output_type": "execute_result"
    }
   ],
   "source": [
    "L_sharp[:7]\n",
    "count_number(L_rock,22,31)"
   ]
  },
  {
   "cell_type": "code",
   "execution_count": 83,
   "id": "ee194f77",
   "metadata": {},
   "outputs": [
    {
     "name": "stdout",
     "output_type": "stream",
     "text": [
      "2\n",
      "100\n"
     ]
    }
   ],
   "source": [
    "print(count_number(L_rock,0,4))\n",
    "a=80\n",
    "b=90\n",
    "m=2\n",
    "print(len(line))\n"
   ]
  },
  {
   "cell_type": "code",
   "execution_count": 55,
   "id": "3011ae8f",
   "metadata": {},
   "outputs": [],
   "source": [
    "L_sharp=L_sharp[:6]"
   ]
  },
  {
   "cell_type": "code",
   "execution_count": 70,
   "id": "94ada3e3",
   "metadata": {},
   "outputs": [
    {
     "data": {
      "text/plain": [
       "[0,\n",
       " 4,\n",
       " 14,\n",
       " 17,\n",
       " 21,\n",
       " 22,\n",
       " 31,\n",
       " 34,\n",
       " 36,\n",
       " 45,\n",
       " 47,\n",
       " 49,\n",
       " 52,\n",
       " 54,\n",
       " 55,\n",
       " 66,\n",
       " 67,\n",
       " 72,\n",
       " 80,\n",
       " 90,\n",
       " 93,\n",
       " 95]"
      ]
     },
     "execution_count": 70,
     "metadata": {},
     "output_type": "execute_result"
    }
   ],
   "source": [
    "L_sharp"
   ]
  },
  {
   "cell_type": "code",
   "execution_count": 36,
   "id": "97f22f3d",
   "metadata": {},
   "outputs": [],
   "source": [
    "N=100"
   ]
  },
  {
   "cell_type": "code",
   "execution_count": 37,
   "id": "ce3944f1",
   "metadata": {},
   "outputs": [],
   "source": [
    "i=0"
   ]
  },
  {
   "cell_type": "code",
   "execution_count": 38,
   "id": "6978a87c",
   "metadata": {},
   "outputs": [],
   "source": [
    "m=2"
   ]
  },
  {
   "cell_type": "code",
   "execution_count": 43,
   "id": "4b1effdc",
   "metadata": {},
   "outputs": [
    {
     "data": {
      "text/plain": [
       "197"
      ]
     },
     "execution_count": 43,
     "metadata": {},
     "output_type": "execute_result"
    }
   ],
   "source": [
    "int((N-(i+1)+N-(i+m))*m/2)"
   ]
  },
  {
   "cell_type": "code",
   "execution_count": 42,
   "id": "aa7264d2",
   "metadata": {},
   "outputs": [
    {
     "data": {
      "text/plain": [
       "99"
      ]
     },
     "execution_count": 42,
     "metadata": {},
     "output_type": "execute_result"
    }
   ],
   "source": [
    "N-(i+1)"
   ]
  },
  {
   "cell_type": "code",
   "execution_count": 44,
   "id": "7361d9b2",
   "metadata": {},
   "outputs": [],
   "source": [
    "N=100"
   ]
  },
  {
   "cell_type": "code",
   "execution_count": 45,
   "id": "8a4c2bc3",
   "metadata": {},
   "outputs": [],
   "source": [
    "m=2"
   ]
  },
  {
   "cell_type": "code",
   "execution_count": 46,
   "id": "87169635",
   "metadata": {},
   "outputs": [
    {
     "data": {
      "text/plain": [
       "199"
      ]
     },
     "execution_count": 46,
     "metadata": {},
     "output_type": "execute_result"
    }
   ],
   "source": [
    "int((N+(N-m+1))*m/2)"
   ]
  },
  {
   "cell_type": "code",
   "execution_count": 53,
   "id": "4d9b8184",
   "metadata": {},
   "outputs": [],
   "source": [
    "line=bloc[0]"
   ]
  },
  {
   "cell_type": "code",
   "execution_count": 54,
   "id": "ed809624",
   "metadata": {},
   "outputs": [
    {
     "data": {
      "text/plain": [
       "'#.OO#.........#..#...##.......O#O.#.#OO......#O#.#O.#.##...O..OO..##.O..#......O#.O......O#..#.#....'"
      ]
     },
     "execution_count": 54,
     "metadata": {},
     "output_type": "execute_result"
    }
   ],
   "source": [
    "line"
   ]
  },
  {
   "cell_type": "code",
   "execution_count": 78,
   "id": "150335e1",
   "metadata": {},
   "outputs": [
    {
     "data": {
      "text/plain": [
       "'.O.O#.#.O...OO.......O#O.#.#.##.O..O.OO.#OOO.........O....O#...O...#..O...###O##.O..O#O..O#.##.#O.O.'"
      ]
     },
     "execution_count": 78,
     "metadata": {},
     "output_type": "execute_result"
    }
   ],
   "source": [
    "bloc[2]"
   ]
  },
  {
   "cell_type": "code",
   "execution_count": 85,
   "id": "655fa53c",
   "metadata": {},
   "outputs": [
    {
     "data": {
      "text/plain": [
       "['#...O.#O...#...#.OOO..O.###O......O#.O.......O..#.....#..O...O.##...O......O...#.#.O.#.#.#...#......',\n",
       " '.#OO..#.#.O.#..O....#O..O##.OO...#..#O...OO....O....#O.......O....##.....#O....#.#..OO#O..O#......OO',\n",
       " 'O..##..#...O.O..O.#..#.O....O....#...#.......O..#......#O..#.#....O#.O....#..O#.O.#O.O..O....#.....O',\n",
       " 'O.O.#....#...OO...#..O..O#OO.O...O.........O..##O#..O#...OO.....O....O...O.O..#.O#....O.....O....#..',\n",
       " '#.#..O...#.#..##.O.OO.O.......O..#.O...#.O.#O#..OOO....O....#....#O..####.O...O.........O......#...#',\n",
       " '.O.O#.OO..##...O.....O..#O.##O.#.OOO.#.#O..#.O.#O.#OOO......O...#.......#...##..#...O....#OO#O.O.#..',\n",
       " '..#.#.......O...#.#.O####.........OO.....O.OO.O..#..#..O.O..O....OOO..###.#....O##......OO..........',\n",
       " '...O.O.O..#O.....O.O.O.......#.....O##......O.O....O.....#.###...O#...#O..#....#.O..O...#...#.##..O#',\n",
       " '..O.O...#OO#..OO..O..OO#..#.O...#...O.#.......O#.##.O#O.OO.......#.#.OO#O.O...#.O.O.....O.O#.O.#O.O.',\n",
       " '.....O.##O#...O.O.............OO.......#O.#OO.O....O..O#...O.#.#.#..#.O#O.O.....##O.O...O.......O.#.',\n",
       " '...#.#O#....O.O..#....OO.OO...##.#..O.OO.OO..O.OO#.O...O.#.#...OO....O....##...#O....#.OOOO..O..OOO.',\n",
       " '....#.O.O#OO....#.#O..#..O..OOO#OOO..#.OO.O..O.O....#..O.##O..#...O...O....#O...OO...........O..O...',\n",
       " '.OO...##.O.....O.#....O.....OO..#.......#O##..O##.#O..........OO.OO........O...O..#..#..#O.OO...#O..',\n",
       " '..O#O#..#.#...#OO..O...#.O..#..OOOO####....O.O..O........OO..OO...##...#....#..#.OO..#...O....O.O...',\n",
       " '##...#O.......O.O##....O.OO#...........O#.....O##....O#.O#O......O#.#......##...OO#....O...O.OO.O#.#',\n",
       " '.....O..........O.O..OO......#....O##..#......O.#.#..O.#.#...O.#.O#.O...O#.OO...#.#.O..O#.#.O.#....#',\n",
       " '....O.O......#.OO#...........#......#.O.O..O#O#.#.O.##.#.#O.O#OO...O...##......#.#..#..#..O....O#O#.',\n",
       " '##.O.OO..#O.#O.....O..O.O..O....O...#.#O.O.#O#.#O##OO..O...O.O......O#O...O#...#.#......##..O..O.#O.',\n",
       " '...O...O..OO..#.O..OO.....#..O......O.....#..O....#.O..#..O.O#.#.O......O.OO...O..O..O......O.#...O.',\n",
       " '.#..##...OO..#..#...#O..O.....#O#....#.....#.O.....O.....##O...O.#..#OO.......#...#..........##....#',\n",
       " '...O........OO.#.O...#O..OO..O#.........##..#O...O....#...O..#..........#...#.....#.O.O......#...OO.',\n",
       " '##O......O#.O...O.##..O......OO.O#O.#...O.O#.##.#.#.O.#..#..........O..##.O.........O.O...#....O...O',\n",
       " '#.#..O.#.##OO......OO...O.OO...#.O.OO..O.#....O........O..#...O.##...##.#.O..O.O#..OO#...O...#...#O.',\n",
       " '.#O..O..#..O..O.#OO#....##....O.##..###.#..O#.#..#........OO#..O.#..#........O....O#.O.O.......#..##',\n",
       " '...#.........O#O.#O..#...#......##.O.O...OO#...#....#........##...OO#.......O..OOOO...##...O#..O#O..',\n",
       " '..#.OOO##...#.O#..#..#.OOO..#O..#....##.O...OO.#O...O..OOO#O..O.OO..#....#.#.........#...#..#.#.#..O',\n",
       " '.O..O.O#...#O.O...O...O....O#.O..#.O#....O.O.O..#.O...O...O.O.O.....O.......O.O##.#...O.O#..........',\n",
       " '..#..#.....O##...O.#...O#....#..OO.#.O..O...#O.#.O....#...O....O..##..###....#....OO#..O......O#....',\n",
       " '....#O.....O.....#..O.#..OO#.....#O...O.OO##..#.....O..#...O...O..........O....OO.O..O..O..##.......',\n",
       " '.###O..O.........O..##.#......O#O......O..#.....##.......O.....#..#.#O#O##..#.#....OO....O#.###.O.#.',\n",
       " 'OO#....#........O..##O..#.OO.........O...O......OO.O#OO.O#O..O#O..#..##O.#.OO#...O.....O##....O....#',\n",
       " '#...........O..#OO..#.##O...O##.O.......O#.O......O###O#..#OO##....O.OO#.......O........#O.....#....',\n",
       " 'O#O...#.##.O....O....OO....O.O.O#.O#O....O#......OO...O.....#............O.OO#...O...#.O.O.O#....O..',\n",
       " '...O.#.O..O..O..O.#O..O#.#..O..O.....#.#.#..O.OO.O#O.O#.............O.#.#.....#OOO.O...O#.#...##.O..',\n",
       " '#.....O#.....#...O.#..OOO.#..#OO....O....#.O...........#..OO...##.O..#O...#.##.....O....#..........O',\n",
       " '..O..#...O..O#O.O.#.#O#.#..OO..##.#O.#.#..#.........O...#.O.#.##.##.O...#..##...O......O....#..O....',\n",
       " '##.......#......O.O.#..#O...#.....#.#.#.O.......#....#O.O##O.......O..#..#.......O.....O...#.#...#..',\n",
       " 'O#O#..#O.....#..##O#..O.#.....O#...O.#...O#OOO.#O.O.#.#....#.O##OO....#........#.O.O.O.#.#O.......O.',\n",
       " 'O.O..O#O......OO...O..#OO..#......O.......#.O....#..#.#O###OO.O...#...O.#.O.OO.O.####.#..#.#..O..O.#',\n",
       " '........O.#..##.O.###OO#.#O.O##.....O##...O.....#........##.O.##.O........O.#....#.#...OO.O.O...O##O',\n",
       " '..#........O.#..OO##O.......#...#.O.O.OO##...#........#..##.#.O.O..O.....O....O.O#O..O..O.O.#.O.....',\n",
       " '..O#..OO.O...#.##..#.#..O...O...O#.#O.#...#O...O.#...OO..##.OO.#.O.#.##...O.....#......#..O.O.....O.',\n",
       " '..O..O..O..O.O..#...#O#.....O.##O..OO.#..O.OO#.O......O..#....O.O.O..O#.....O.#..O...O#..##.#O.O#.O.',\n",
       " '..O#.O.OO##O##..O.##O...#OO#.....O...O.OO....OO###.OO...#O#O..##.O.O...#O.#.OOO.O..#.#O.#.O..#....O.',\n",
       " '.....O....#OOO..O#.O#.#.O....O..OOO.............O#...O.....OO.#OOO#....O...O...#...O.##.##O#O.......',\n",
       " '#...#.#O.....O#OO#......#.O#O..OO....O.....OO.#......#...#....#O.O#O...OO..#....O.....O#....O..#OO#.',\n",
       " 'OO.O...O.#.....#O....#.#......#.#.#..#.#.O....O##O.O..#....#O...#.##.#O..#..O...#....#..O.##O.#..O.#',\n",
       " '##.#.#...O#O..#....#.##.O.O.O...#.OO..#....OOOO..#...OO.......O....O....OO..OO.....O...#OO...#O.....',\n",
       " '...O##...OO..........O..O..O.#...OOO.OOO..O.O.......O.O.O#..O....O#...O.#OO#.#.#.#.....#...#.O..#O.O',\n",
       " '#...O..OO........#...#.O......#.OO...O.O.#....O..#.O..#......#...O#...........O..##O..O......O#.#...',\n",
       " 'O....O#..#O.O.............#....O..O.O.#O.O...O...#....O.#.#...O..#....O.........OO....O.O#OO.....O..',\n",
       " '...O..O..O.OO#.#O.....O.O#.O.#..##...#.#O...#.OOOOOO..#..O#.#O#.O.#.O..#.O.O#..##...O.......#O#O..OO',\n",
       " '#..#.....O.#O#.O.......#.O#.O.#....#.O.....OO..O.#O#..#O...O.........#O.O#.#......#O....O.O.OO.#O...',\n",
       " '.OO#.O.##.O.#.......###...O........#....O.O#.OO#.....#...#...O.##....O.#..O...O...O..OO....O#..O..O.',\n",
       " '#O.O............O.O....#OO#..O.......O.....OO.............O#.O#...OO.......#.O.##...#......O.#......',\n",
       " '#..O..#...........O..#.O#..##..O#..O..#..#...##.##OO..#O.....O.O.#..O.###.......OO......OOO...OO...O',\n",
       " '....#OO.O....#.OO.O..##O..OO.O#.#O..O..O.#.#.#....#O.O##O.......O#......##.O#.#O#.#.O....#..##.#....',\n",
       " '...O....#.....OO.O.#..##..O...##.#.....#.O.O...O......O#....O.........O..OOO.......O.#.#..#.....O..#',\n",
       " '.OOO...##......O#.#..O......#.#..#O..#O#.....#...O#....O.O.O.O.#O###..#....O.#..O#O..........O......',\n",
       " 'O.#..O...O.O..#O..#....O#.O....#......O#..O.#....OO....O..O....O....#.#O.O.##O.#..O#....O#...##..OO.',\n",
       " '.............O.........OO........O...O.OO.#.OOO...O..O#.......##....#O...OO....#.O.O...OOOO...O.#..#',\n",
       " '...O.#O....#.......#.O.O##O............OOO...#..#..##...OO##..#....O...#O##..OOO..O..#..O#......O...',\n",
       " 'O...O...#..##......#.O.O..#....OOO.O..OO...##...O.O.......#.#.#.....##...O..#O.#...O.........OO....#',\n",
       " 'O#O#.....O..#..O#.O...###...O.OO.#O.O#.O.#...#........#O.O........O.#..O#........#....#O...O#O#.....',\n",
       " '...#.O....#..O....#O.....O...O.#.##O.O#OO#.O.O.##O.......##......O#..#..#.....OO......#O.#O...OO.###',\n",
       " '......OO#OO..O#O.....O.#.O#.O.#O....O....#.O..#...#.#....#.OO...O......#..O.#O#.#.....O.O.O.#....O..',\n",
       " '#O....O.O....O.O....#....##...#OO.O##...O....##........#.#..O................O#O.O....O..#...##O.#..',\n",
       " '###O#....#O#O.O.OO....#.........O#.#.O...O#..#.O.....#....#.O......O..O##.......#......O.....O....O#',\n",
       " '......OO.#.#O..O...O........O#.....O...#OO##OOO....O#..O.O..........O....O.....OO.O..OOO.O....O.O#..',\n",
       " 'O..#..O#O.....OO##..O#...OO.....##O#O.O..O...#OOOOO.OO#.O...O....O#O#.##....#O....O......O....OO.##.',\n",
       " '..O.....OO#O...........O...#...O.O#O.......OOO.....#.O....#.#....O..#.#.............O...O.....OOOO.O',\n",
       " '...OO..O.....#..#.O.O..#.O..OOOOO....O.#...#..#.OO......O#.#O.##..##............O....O.O.O.....O...#',\n",
       " '#.....O....#O..#..O..#..#.OO#.#.O.#...#.....O..#.......OO#O.#......#..O.O...O.#.#...O##O.....#OO#...',\n",
       " '.O.#...O.OO...#...........#..##..#...O.#....O.#...#....OO..#.....#...##..#...#OO.......OOOO..O....#.',\n",
       " '..#.##..O.O.....O#.......#..#........#.###.O...#.O#O#OO.OO.O#..#.O..#.OO#..#OO....#O..#.........#OO.',\n",
       " '..#........O#...O....O..O..##..###O..................O......O.#.O.O.#OOO.#OO....#..O#......OO.OOO...',\n",
       " '..#O.#O..O..OO#..#..#.OO.OOO.#.OOOO..O#...O#...O....#O........#............O.O....#...OO.O..#.OO....',\n",
       " '.OO#....#.#O.#O#O.#.##......#...#..O.O.##......#.#..#...#............#O....##.OO.O.O........#OO.#.#.',\n",
       " '..##.......#.O#...OO......##.OO...O.........#........O...........#O.O##OO...........#.O.O..OO.......',\n",
       " 'OO##O#.....#.#O..#......#....#OO.#O....###.#.....##.O.O#..O....#O.#.....##.##..O#.O.....#.....#O.#..',\n",
       " '##...O#.OO.O..O.O.O#...#.#..#.#.O..#O.....O#.........O#.........O...#...#.O......O..#O..#O..O.#O.O.O',\n",
       " '..O......O#...O......OOO..O.....OO.....##.....#O.........O.......#......O#...O.#..O.......#....#....',\n",
       " 'O..#.O..#.#.......#O.#.##O..O#.O##....#.#.OO..OO....#O..O..O....#...O.#....#.#.O#......O.#......O...',\n",
       " '.O..##.#O.O...#O...#.O.O.#...O..OO..#O...#OO......O...O.....OO........#.O...#..O#.O.#.O..O...O#....O',\n",
       " '..O....#.##...O##.O#..#.O.O.#..OOOO.....#OO.O....#...#O....O........#..O...#O#..O#.#..O#...OOO#.O...',\n",
       " '.O#...O#....#..O...#..O.O.#..#.#........#.OO.O.O.#................##....#.....#...O.#...#.....O.#...',\n",
       " '..O.........##.O..O.....OO##..OO#O.#...#O##....#...#.......##.......O#......O#..O#..O.##....O..#....',\n",
       " '.O.O..#O......#..#..##....O..O#O..O#...O.##...O..O..#.O.OO....O.##....##.OO..O.........O#.#...#.##..',\n",
       " '......O...O.#..OO#......#.....OO.O.##.#...#O.O#....O....#.O............O........#.OO#......OO##..O..',\n",
       " 'O#O..O...O.O....OO.....##O.....OOO..OO.....#O...OO.#....#.O.......#.#.........#O..#..O##.#.O.#.OO.#.',\n",
       " '#O#O..##.##O.....O.O.#..O....#.O#.......O......#O..O.O...O.O..O...#OO.....##..#.....O.#..#O..O.O.#..',\n",
       " '.O.##...#....#..#O...##O...##..#.O..O.#..#O...O.O........#.O...O...O#.OO..O.##..O#.O.O#..#OO##OO...O',\n",
       " '.##..#..O....OO......#OO..#.....OO.O..#.O..O.O#..#.O#........O....O..O..#....O..#...##.#OOO...#OO#OO',\n",
       " '#.#O...#...OOO#.....#.#O.##...##O...#....O......O....#O.#.O......#.....O....O....O.O.#..#O...##O....',\n",
       " '......#..OOOO.....O....#.#.##O.#..#..O.#........O....#....#...OO....#..O.......O...OO#....#.#O..#..#',\n",
       " '###..O...#...O#.OO.#.#O..O.#.#..##.##OOO.O....#O.#.#....O.#O..O..#O...OO.O.O.O.O#..O......O.#.#..OO.',\n",
       " '.#O....###.......O#..#O#O...#....O.OO#..O.#O.O#.O.##..#....#...OO..#.O###..O...........##.O...##.#.O',\n",
       " '...OO.#.#..O#.....##OO.......O..##..OO.#..........#.OO..OO..#.#O....O.#..O...O......O....O.O#...O...',\n",
       " '..O....#.O#..O..#.....O..O#..#OO......#...OO.O#OO..#O#..O#.......#...O.#.OO.##.O#O....O..#..#O..O.#.',\n",
       " '...#O....OOO.#OOO.....O..##..OOOO..O..#..#.#...O..#.O..........#OOO.#.O.....OOO.O..#..O..O.#.....#.#']"
      ]
     },
     "execution_count": 85,
     "metadata": {},
     "output_type": "execute_result"
    }
   ],
   "source": [
    "lines"
   ]
  },
  {
   "cell_type": "code",
   "execution_count": 91,
   "id": "0a8f6244",
   "metadata": {},
   "outputs": [],
   "source": [
    "m=5\n",
    "a=10\n",
    "b=6"
   ]
  },
  {
   "cell_type": "code",
   "execution_count": 92,
   "id": "87bac84e",
   "metadata": {},
   "outputs": [
    {
     "data": {
      "text/plain": [
       "40"
      ]
     },
     "execution_count": 92,
     "metadata": {},
     "output_type": "execute_result"
    }
   ],
   "source": [
    "sum(range(10,10-5,-1))"
   ]
  },
  {
   "cell_type": "code",
   "execution_count": 93,
   "id": "6d3bdc48",
   "metadata": {},
   "outputs": [
    {
     "data": {
      "text/plain": [
       "40"
      ]
     },
     "execution_count": 93,
     "metadata": {},
     "output_type": "execute_result"
    }
   ],
   "source": [
    "10+9+8+7+6"
   ]
  },
  {
   "cell_type": "code",
   "execution_count": 95,
   "id": "e90652d4",
   "metadata": {},
   "outputs": [
    {
     "data": {
      "text/plain": [
       "40"
      ]
     },
     "execution_count": 95,
     "metadata": {},
     "output_type": "execute_result"
    }
   ],
   "source": [
    "((10+6)*5)//2"
   ]
  },
  {
   "cell_type": "code",
   "execution_count": null,
   "id": "f791a212",
   "metadata": {},
   "outputs": [],
   "source": []
  }
 ],
 "metadata": {
  "kernelspec": {
   "display_name": "Python 3",
   "language": "python",
   "name": "python3"
  },
  "language_info": {
   "codemirror_mode": {
    "name": "ipython",
    "version": 3
   },
   "file_extension": ".py",
   "mimetype": "text/x-python",
   "name": "python",
   "nbconvert_exporter": "python",
   "pygments_lexer": "ipython3",
   "version": "3.8.8"
  }
 },
 "nbformat": 4,
 "nbformat_minor": 5
}
